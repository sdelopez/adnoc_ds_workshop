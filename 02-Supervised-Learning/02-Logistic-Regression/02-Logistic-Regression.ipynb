{
 "cells": [
  {
   "cell_type": "markdown",
   "metadata": {},
   "source": [
    "# Challenge 2 - Logistic Regression"
   ]
  },
  {
   "cell_type": "markdown",
   "metadata": {},
   "source": [
    "## 1/ Data exploration\n",
    "\n",
    "Before creating our model let's just **import** the dataset and take a look at the **general info** about our dataset.<br>"
   ]
  },
  {
   "cell_type": "code",
   "execution_count": 2,
   "metadata": {},
   "outputs": [],
   "source": [
    "# The usual imports\n",
    "import matplotlib.pyplot as plt\n",
    "import numpy as np\n",
    "import pandas as pd\n",
    "from sklearn.linear_model import LogisticRegression"
   ]
  },
  {
   "cell_type": "markdown",
   "metadata": {},
   "source": [
    "<details>\n",
    "  <summary>Hint</summary>\n",
    "  You will probably need the read_csv method... Do your remember its library ?\n",
    "</details>\n",
    "<details>\n",
    "  <summary>View solution</summary>\n",
    "\n",
    "```python\n",
    "import numpy as np\n",
    "import pandas as pd\n",
    "import seaborn as sns\n",
    "import matplotlib.pyplot as plt\n",
    "%matplotlib inline\n",
    "```\n",
    "</details>"
   ]
  },
  {
   "cell_type": "code",
   "execution_count": 4,
   "metadata": {},
   "outputs": [],
   "source": [
    "# Dataset import\n",
    "csvfile = \"data/Graduate_Admission.csv\"\n",
    "gadm_df = pd.read_csv(csvfile, decimal=\".\")"
   ]
  },
  {
   "cell_type": "markdown",
   "metadata": {},
   "source": [
    "<details>\n",
    "  <summary>Solution</summary>\n",
    "  \n",
    "```python\n",
    "file = \"data/Graduate_Admission.csv\"\n",
    "df = pd.read_csv(file, decimal=\".\")\n",
    "```\n",
    "\n",
    "</details>"
   ]
  },
  {
   "cell_type": "code",
   "execution_count": 5,
   "metadata": {},
   "outputs": [
    {
     "data": {
      "text/html": [
       "<div>\n",
       "<style scoped>\n",
       "    .dataframe tbody tr th:only-of-type {\n",
       "        vertical-align: middle;\n",
       "    }\n",
       "\n",
       "    .dataframe tbody tr th {\n",
       "        vertical-align: top;\n",
       "    }\n",
       "\n",
       "    .dataframe thead th {\n",
       "        text-align: right;\n",
       "    }\n",
       "</style>\n",
       "<table border=\"1\" class=\"dataframe\">\n",
       "  <thead>\n",
       "    <tr style=\"text-align: right;\">\n",
       "      <th></th>\n",
       "      <th>Rating</th>\n",
       "      <th>CGPA</th>\n",
       "      <th>Admited</th>\n",
       "    </tr>\n",
       "  </thead>\n",
       "  <tbody>\n",
       "    <tr>\n",
       "      <td>0</td>\n",
       "      <td>1</td>\n",
       "      <td>4.79</td>\n",
       "      <td>0</td>\n",
       "    </tr>\n",
       "    <tr>\n",
       "      <td>1</td>\n",
       "      <td>1</td>\n",
       "      <td>5.33</td>\n",
       "      <td>0</td>\n",
       "    </tr>\n",
       "    <tr>\n",
       "      <td>2</td>\n",
       "      <td>1</td>\n",
       "      <td>5.70</td>\n",
       "      <td>0</td>\n",
       "    </tr>\n",
       "    <tr>\n",
       "      <td>3</td>\n",
       "      <td>1</td>\n",
       "      <td>5.05</td>\n",
       "      <td>0</td>\n",
       "    </tr>\n",
       "    <tr>\n",
       "      <td>4</td>\n",
       "      <td>1</td>\n",
       "      <td>5.33</td>\n",
       "      <td>0</td>\n",
       "    </tr>\n",
       "    <tr>\n",
       "      <td>...</td>\n",
       "      <td>...</td>\n",
       "      <td>...</td>\n",
       "      <td>...</td>\n",
       "    </tr>\n",
       "    <tr>\n",
       "      <td>1535</td>\n",
       "      <td>5</td>\n",
       "      <td>8.79</td>\n",
       "      <td>1</td>\n",
       "    </tr>\n",
       "    <tr>\n",
       "      <td>1536</td>\n",
       "      <td>5</td>\n",
       "      <td>8.03</td>\n",
       "      <td>0</td>\n",
       "    </tr>\n",
       "    <tr>\n",
       "      <td>1537</td>\n",
       "      <td>5</td>\n",
       "      <td>8.85</td>\n",
       "      <td>0</td>\n",
       "    </tr>\n",
       "    <tr>\n",
       "      <td>1538</td>\n",
       "      <td>5</td>\n",
       "      <td>8.99</td>\n",
       "      <td>0</td>\n",
       "    </tr>\n",
       "    <tr>\n",
       "      <td>1539</td>\n",
       "      <td>5</td>\n",
       "      <td>8.74</td>\n",
       "      <td>0</td>\n",
       "    </tr>\n",
       "  </tbody>\n",
       "</table>\n",
       "<p>1540 rows × 3 columns</p>\n",
       "</div>"
      ],
      "text/plain": [
       "      Rating  CGPA  Admited\n",
       "0          1  4.79        0\n",
       "1          1  5.33        0\n",
       "2          1  5.70        0\n",
       "3          1  5.05        0\n",
       "4          1  5.33        0\n",
       "...      ...   ...      ...\n",
       "1535       5  8.79        1\n",
       "1536       5  8.03        0\n",
       "1537       5  8.85        0\n",
       "1538       5  8.99        0\n",
       "1539       5  8.74        0\n",
       "\n",
       "[1540 rows x 3 columns]"
      ]
     },
     "execution_count": 5,
     "metadata": {},
     "output_type": "execute_result"
    }
   ],
   "source": [
    "# Dataset quick info\n",
    "gadm_df"
   ]
  },
  {
   "cell_type": "code",
   "execution_count": 9,
   "metadata": {},
   "outputs": [
    {
     "data": {
      "text/plain": [
       "Rating       int64\n",
       "CGPA       float64\n",
       "Admited      int64\n",
       "dtype: object"
      ]
     },
     "execution_count": 9,
     "metadata": {},
     "output_type": "execute_result"
    }
   ],
   "source": [
    "gadm_df.dtypes"
   ]
  },
  {
   "cell_type": "code",
   "execution_count": null,
   "metadata": {},
   "outputs": [],
   "source": []
  },
  {
   "cell_type": "code",
   "execution_count": null,
   "metadata": {},
   "outputs": [],
   "source": []
  },
  {
   "cell_type": "markdown",
   "metadata": {},
   "source": [
    "<details>\n",
    "  <summary>Hint</summary>\n",
    "  Remember: you have already used methods such as describe, info, head, tail, etc.\n",
    "</details>\n",
    "\n",
    "<details>\n",
    "  <summary>View solution</summary>\n",
    "\n",
    "```python\n",
    "df.info()\n",
    "```\n",
    "</details>"
   ]
  },
  {
   "cell_type": "markdown",
   "metadata": {},
   "source": [
    "### How many rows do we have in our dataframe?"
   ]
  },
  {
   "cell_type": "code",
   "execution_count": 10,
   "metadata": {},
   "outputs": [
    {
     "data": {
      "text/plain": [
       "<bound method DataFrame.count of       Rating  CGPA  Admited\n",
       "0          1  4.79        0\n",
       "1          1  5.33        0\n",
       "2          1  5.70        0\n",
       "3          1  5.05        0\n",
       "4          1  5.33        0\n",
       "...      ...   ...      ...\n",
       "1535       5  8.79        1\n",
       "1536       5  8.03        0\n",
       "1537       5  8.85        0\n",
       "1538       5  8.99        0\n",
       "1539       5  8.74        0\n",
       "\n",
       "[1540 rows x 3 columns]>"
      ]
     },
     "execution_count": 10,
     "metadata": {},
     "output_type": "execute_result"
    }
   ],
   "source": [
    "# Enter the answer\n",
    "gadm_df.count"
   ]
  },
  {
   "cell_type": "markdown",
   "metadata": {},
   "source": [
    "<details>\n",
    "  <summary>View solution</summary>\n",
    "\n",
    "```python\n",
    "df.shape[0]\n",
    "```\n",
    "</details>"
   ]
  },
  {
   "cell_type": "markdown",
   "metadata": {},
   "source": [
    "### Which word best describe each columns?"
   ]
  },
  {
   "cell_type": "code",
   "execution_count": 5,
   "metadata": {},
   "outputs": [],
   "source": [
    "type_a = \"Binary\"\n",
    "type_b = \"Discrete\"\n",
    "type_c = \"Continuous\"\n",
    "\n",
    "CGPA = type_c # replace by the right type\n",
    "Rating = type_b # replace by the right type\n",
    "Admited = type_a # replace by the right type"
   ]
  },
  {
   "cell_type": "markdown",
   "metadata": {},
   "source": [
    "<details>\n",
    "  <summary>View solution</summary>\n",
    "\n",
    "```python\n",
    "CGPA = type_c\n",
    "Rating = type_b\n",
    "Admited = type_a\n",
    "```\n",
    "</details>"
   ]
  },
  {
   "cell_type": "markdown",
   "metadata": {},
   "source": [
    "### Ploting our data\n",
    "We can do a simple **pair-plot** of our dataframe to visualise the **relations** between our **columns**.\n",
    "\n",
    "<details>\n",
    "  <summary>Hint</summary>\n",
    "  <a href=\"https://seaborn.pydata.org/generated/seaborn.pairplot.html\">[Doc] seaborn.pydata.org</a>\n",
    "</details>"
   ]
  },
  {
   "cell_type": "code",
   "execution_count": 14,
   "metadata": {},
   "outputs": [],
   "source": [
    "# Pair-plot\n",
    "import seaborn as sns"
   ]
  },
  {
   "cell_type": "code",
   "execution_count": 18,
   "metadata": {},
   "outputs": [
    {
     "name": "stderr",
     "output_type": "stream",
     "text": [
      "C:\\Users\\Le Wagon 1\\AppData\\Local\\Continuum\\anaconda3\\lib\\site-packages\\statsmodels\\nonparametric\\kde.py:487: RuntimeWarning: invalid value encountered in true_divide\n",
      "  binned = fast_linbin(X, a, b, gridsize) / (delta * nobs)\n",
      "C:\\Users\\Le Wagon 1\\AppData\\Local\\Continuum\\anaconda3\\lib\\site-packages\\statsmodels\\nonparametric\\kdetools.py:34: RuntimeWarning: invalid value encountered in double_scalars\n",
      "  FAC1 = 2*(np.pi*bw/RANGE)**2\n"
     ]
    },
    {
     "data": {
      "text/plain": [
       "<seaborn.axisgrid.PairGrid at 0x24c64845388>"
      ]
     },
     "execution_count": 18,
     "metadata": {},
     "output_type": "execute_result"
    },
    {
     "data": {
      "image/png": "[encoded data removed]",
      "text/plain": [
       "<Figure size 590.125x540 with 12 Axes>"
      ]
     },
     "metadata": {
      "needs_background": "light"
     },
     "output_type": "display_data"
    }
   ],
   "source": [
    "sns.pairplot(gadm_df, hue=\"Admited\")"
   ]
  },
  {
   "cell_type": "markdown",
   "metadata": {},
   "source": [
    "<details>\n",
    "  <summary>View solution</summary>\n",
    " \n",
    "```python\n",
    "sns.pairplot(df, hue=\"Admited\")\n",
    "```\n",
    "</details>"
   ]
  },
  {
   "cell_type": "markdown",
   "metadata": {},
   "source": [
    "We would also like to observe more clearly the relation **for each rating**, between the **CGPA** and the **Admission**.<br>\n",
    "That way we could start **estimating** what **CGPA** you need to be **admited** in each school.\n",
    "\n",
    "**Help:** Scatter plot **Rating** vs. **CGPA** for **Admited** 1 and 0.\n",
    "\n",
    "<details>\n",
    "  <summary>Hint</summary>\n",
    "  <a href=\"https://seaborn.pydata.org/generated/seaborn.scatterplot.html\">[Doc] seaborn.pydata.org</a>\n",
    "</details>"
   ]
  },
  {
   "cell_type": "code",
   "execution_count": 21,
   "metadata": {},
   "outputs": [
    {
     "data": {
      "text/plain": [
       "<matplotlib.axes._subplots.AxesSubplot at 0x24c64dfcb48>"
      ]
     },
     "execution_count": 21,
     "metadata": {},
     "output_type": "execute_result"
    },
    {
     "data": {
      "image/png": "[encoded data removed]",
      "text/plain": [
       "<Figure size 432x288 with 1 Axes>"
      ]
     },
     "metadata": {
      "needs_background": "light"
     },
     "output_type": "display_data"
    }
   ],
   "source": [
    "# Complex admission plot\n",
    "sns.scatterplot(x=\"CGPA\", y=\"Rating\", hue=\"Admited\", data=gadm_df)"
   ]
  },
  {
   "cell_type": "code",
   "execution_count": 23,
   "metadata": {
    "scrolled": true
   },
   "outputs": [
    {
     "name": "stderr",
     "output_type": "stream",
     "text": [
      "C:\\Users\\Le Wagon 1\\AppData\\Local\\Continuum\\anaconda3\\lib\\site-packages\\ipykernel_launcher.py:5: UserWarning: Matplotlib is currently using module://ipykernel.pylab.backend_inline, which is a non-GUI backend, so cannot show the figure.\n",
      "  \"\"\"\n"
     ]
    },
    {
     "data": {
      "image/png": "[encoded data removed]",
      "text/plain": [
       "<Figure size 1332x504 with 2 Axes>"
      ]
     },
     "metadata": {
      "needs_background": "light"
     },
     "output_type": "display_data"
    }
   ],
   "source": [
    "fig, ax = plt.subplots(2,1)\n",
    "sns.scatterplot(x=\"CGPA\", y='Rating', data=gadm_df[gadm_df[\"Admited\"] == 1], ax=ax[0]).set(xlim=(3.8, 10.2))\n",
    "sns.scatterplot(x=\"CGPA\", y='Rating', data=gadm_df[gadm_df[\"Admited\"] == 0], ax=ax[1]).set(xlim=(3.8, 10.2))\n",
    "fig.set_size_inches(18.5, 7)\n",
    "fig.show()"
   ]
  },
  {
   "cell_type": "markdown",
   "metadata": {},
   "source": [
    "<details>\n",
    "  <summary>View solution</summary>\n",
    " \n",
    "```python\n",
    "fig, ax = plt.subplots(2,1)\n",
    "sns.scatterplot(x=\"CGPA\", y='Rating', data=df[df[\"Admited\"] == 1], ax=ax[0]).set(xlim=(3.8, 10.2))\n",
    "sns.scatterplot(x=\"CGPA\", y='Rating', data=df[df[\"Admited\"] == 0], ax=ax[1]).set(xlim=(3.8, 10.2))\n",
    "fig.set_size_inches(18.5, 7)\n",
    "fig.show()\n",
    "```\n",
    "</details>"
   ]
  },
  {
   "cell_type": "markdown",
   "metadata": {},
   "source": [
    "## 2/ Creating a model\n",
    "\n",
    "If we want to **predict** students **admissions** in a school we will need to create a model.\n",
    "The model will also help us to get some insight about the **probability** for a student to enter a school.\n",
    "\n",
    "What is the **type of the task** that we are trying to do here, **Regression** or **Classification**?"
   ]
  },
  {
   "cell_type": "code",
   "execution_count": 24,
   "metadata": {},
   "outputs": [],
   "source": [
    "# Choose your answer\n",
    "answer_a = \"Regression\"\n",
    "answer_b = \"Classification\"\n",
    "\n",
    "question_task_type = answer_b # replace by the right variable"
   ]
  },
  {
   "cell_type": "markdown",
   "metadata": {},
   "source": [
    "<details>\n",
    "  <summary>View solution</summary>\n",
    " \n",
    "```python\n",
    "question_task_type = answer_b\n",
    "```\n",
    "</details>"
   ]
  },
  {
   "cell_type": "markdown",
   "metadata": {},
   "source": [
    "### Training\n",
    "\n",
    "For this exercise we are going to use a **Logistic Regression** model. <br>\n",
    "Documentation: [scikit-learn.org/sklearn.linear_model.LogisticRegression](https://scikit-learn.org/stable/modules/generated/sklearn.linear_model.LogisticRegression.html)"
   ]
  },
  {
   "cell_type": "code",
   "execution_count": 34,
   "metadata": {},
   "outputs": [
    {
     "data": {
      "text/plain": [
       "0       1\n",
       "1       1\n",
       "2       1\n",
       "3       1\n",
       "4       1\n",
       "       ..\n",
       "1535    5\n",
       "1536    5\n",
       "1537    5\n",
       "1538    5\n",
       "1539    5\n",
       "Name: Rating, Length: 1540, dtype: int64"
      ]
     },
     "execution_count": 34,
     "metadata": {},
     "output_type": "execute_result"
    }
   ],
   "source": [
    "gadm_df['Rating']"
   ]
  },
  {
   "cell_type": "code",
   "execution_count": 36,
   "metadata": {
    "scrolled": true
   },
   "outputs": [],
   "source": [
    "# Separate the features (X = ['Rating', 'CGPA']) from the target variable (y = \"Admited\")\n",
    "X = gadm_df.drop(columns=['Admited'])\n",
    "Y = gadm_df['Admited']"
   ]
  },
  {
   "cell_type": "markdown",
   "metadata": {},
   "source": [
    "<details>\n",
    "  <summary>View solution</summary>\n",
    " \n",
    "```python\n",
    "X = df.drop(columns=['Admited'])\n",
    "y = df['Admited']\n",
    "```\n",
    "</details>"
   ]
  },
  {
   "cell_type": "code",
   "execution_count": 10,
   "metadata": {},
   "outputs": [],
   "source": [
    "# Import the Logistic Regression model\n",
    "from sklearn.linear_model import LogisticRegression"
   ]
  },
  {
   "cell_type": "markdown",
   "metadata": {},
   "source": [
    "<details>\n",
    "  <summary>View solution</summary>\n",
    " \n",
    "```python\n",
    "from sklearn.linear_model import LogisticRegression\n",
    "```\n",
    "</details>"
   ]
  },
  {
   "cell_type": "code",
   "execution_count": 37,
   "metadata": {},
   "outputs": [
    {
     "name": "stderr",
     "output_type": "stream",
     "text": [
      "C:\\Users\\Le Wagon 1\\AppData\\Local\\Continuum\\anaconda3\\lib\\site-packages\\sklearn\\linear_model\\logistic.py:432: FutureWarning: Default solver will be changed to 'lbfgs' in 0.22. Specify a solver to silence this warning.\n",
      "  FutureWarning)\n"
     ]
    },
    {
     "data": {
      "text/plain": [
       "LogisticRegression(C=1.0, class_weight=None, dual=False, fit_intercept=True,\n",
       "                   intercept_scaling=1, l1_ratio=None, max_iter=100,\n",
       "                   multi_class='warn', n_jobs=None, penalty='l2',\n",
       "                   random_state=None, solver='warn', tol=0.0001, verbose=0,\n",
       "                   warm_start=False)"
      ]
     },
     "execution_count": 37,
     "metadata": {},
     "output_type": "execute_result"
    }
   ],
   "source": [
    "# Train the model with the prepared data\n",
    "model=LogisticRegression()\n",
    "model.fit(X, Y)"
   ]
  },
  {
   "cell_type": "markdown",
   "metadata": {},
   "source": [
    "<details>\n",
    "  <summary>View solution</summary>\n",
    " \n",
    "```python\n",
    "logmodel = LogisticRegression()\n",
    "logmodel.fit(X, y)\n",
    "```\n",
    "</details>"
   ]
  },
  {
   "cell_type": "markdown",
   "metadata": {},
   "source": [
    "### Test the model\n",
    "\n",
    "Before we start using our model let's just make sure the **predictions** are working.<br>\n",
    "So let's make two easy predictions.<br>\n",
    "For a school **rated 5**:\n",
    "- a student with a **CGPA of 5** should **not be** admited.\n",
    "- a student with a **CGPA of 10** should **be** admited.\n",
    "\n",
    "You can use the following dataset: `{\"Rating\": [5,5], \"CGPA\": [5,10]}`"
   ]
  },
  {
   "cell_type": "code",
   "execution_count": 51,
   "metadata": {},
   "outputs": [
    {
     "data": {
      "text/html": [
       "<div>\n",
       "<style scoped>\n",
       "    .dataframe tbody tr th:only-of-type {\n",
       "        vertical-align: middle;\n",
       "    }\n",
       "\n",
       "    .dataframe tbody tr th {\n",
       "        vertical-align: top;\n",
       "    }\n",
       "\n",
       "    .dataframe thead th {\n",
       "        text-align: right;\n",
       "    }\n",
       "</style>\n",
       "<table border=\"1\" class=\"dataframe\">\n",
       "  <thead>\n",
       "    <tr style=\"text-align: right;\">\n",
       "      <th></th>\n",
       "      <th>Rating</th>\n",
       "      <th>CGPA</th>\n",
       "    </tr>\n",
       "  </thead>\n",
       "  <tbody>\n",
       "    <tr>\n",
       "      <td>0</td>\n",
       "      <td>5</td>\n",
       "      <td>5</td>\n",
       "    </tr>\n",
       "    <tr>\n",
       "      <td>1</td>\n",
       "      <td>5</td>\n",
       "      <td>10</td>\n",
       "    </tr>\n",
       "  </tbody>\n",
       "</table>\n",
       "</div>"
      ],
      "text/plain": [
       "   Rating  CGPA\n",
       "0       5     5\n",
       "1       5    10"
      ]
     },
     "execution_count": 51,
     "metadata": {},
     "output_type": "execute_result"
    }
   ],
   "source": [
    "test_data = {\"Rating\": [5,5], \"CGPA\": [5,10]}\n",
    "\n",
    "## create dataset\n",
    "test_df=pd.DataFrame(test_data)\n",
    "test_df"
   ]
  },
  {
   "cell_type": "code",
   "execution_count": 49,
   "metadata": {},
   "outputs": [],
   "source": [
    "## Compute the model prediction for this test data\n",
    "pred=model.predict(test_df)"
   ]
  },
  {
   "cell_type": "code",
   "execution_count": 50,
   "metadata": {},
   "outputs": [
    {
     "data": {
      "text/plain": [
       "array([0, 1], dtype=int64)"
      ]
     },
     "execution_count": 50,
     "metadata": {},
     "output_type": "execute_result"
    }
   ],
   "source": [
    "pred"
   ]
  },
  {
   "cell_type": "markdown",
   "metadata": {},
   "source": [
    "<details>\n",
    "  <summary>View solution</summary>\n",
    " \n",
    "```python\n",
    "test_df = pd.DataFrame(data=test_data)\n",
    "predictions = logmodel.predict(test_df)\n",
    "predictions\n",
    "```\n",
    "</details>"
   ]
  },
  {
   "cell_type": "markdown",
   "metadata": {},
   "source": [
    "## 3/ Using our model\n",
    "\n",
    "Nice! Now that our **model is ready** we can start looking for **answers** to our **initial questions**. 🚀 "
   ]
  },
  {
   "cell_type": "markdown",
   "metadata": {},
   "source": [
    "1. If your **CGPA is 7.8**, what is the **probability** that you will be accepted in an university with a **rating of 3**?"
   ]
  },
  {
   "cell_type": "code",
   "execution_count": 53,
   "metadata": {},
   "outputs": [
    {
     "data": {
      "text/html": [
       "<div>\n",
       "<style scoped>\n",
       "    .dataframe tbody tr th:only-of-type {\n",
       "        vertical-align: middle;\n",
       "    }\n",
       "\n",
       "    .dataframe tbody tr th {\n",
       "        vertical-align: top;\n",
       "    }\n",
       "\n",
       "    .dataframe thead th {\n",
       "        text-align: right;\n",
       "    }\n",
       "</style>\n",
       "<table border=\"1\" class=\"dataframe\">\n",
       "  <thead>\n",
       "    <tr style=\"text-align: right;\">\n",
       "      <th></th>\n",
       "      <th>Rating</th>\n",
       "      <th>CGPA</th>\n",
       "    </tr>\n",
       "  </thead>\n",
       "  <tbody>\n",
       "    <tr>\n",
       "      <td>0</td>\n",
       "      <td>3</td>\n",
       "      <td>7.8</td>\n",
       "    </tr>\n",
       "  </tbody>\n",
       "</table>\n",
       "</div>"
      ],
      "text/plain": [
       "   Rating  CGPA\n",
       "0       3   7.8"
      ]
     },
     "execution_count": 53,
     "metadata": {},
     "output_type": "execute_result"
    }
   ],
   "source": [
    "# Create a test dataset as previously and make the predictions.\n",
    "test_data2 = {\"Rating\": [3], \"CGPA\": [7.8]}\n",
    "\n",
    "## create dataset\n",
    "test_df2=pd.DataFrame(test_data2)\n",
    "test_df2"
   ]
  },
  {
   "cell_type": "code",
   "execution_count": 56,
   "metadata": {},
   "outputs": [
    {
     "data": {
      "text/plain": [
       "array([[0.25898219, 0.74101781]])"
      ]
     },
     "execution_count": 56,
     "metadata": {},
     "output_type": "execute_result"
    }
   ],
   "source": [
    "pred=model.predict_proba(test_df2)\n",
    "pred"
   ]
  },
  {
   "cell_type": "markdown",
   "metadata": {},
   "source": [
    "<details>\n",
    "  <summary>View solution</summary>\n",
    " \n",
    "```python\n",
    "data = {\"Rating\": [3], \"CGPA\": [7.8]}\n",
    "question_df = pd.DataFrame(data=data)\n",
    "predictions = logmodel.predict_proba(question_df)\n",
    "predictions\n",
    "```\n",
    "</details>"
   ]
  },
  {
   "cell_type": "code",
   "execution_count": 57,
   "metadata": {},
   "outputs": [],
   "source": [
    "# Enter your answer to question 1 here\n",
    "\n",
    "question_1_answer = 0.74101781 # replace by the right answer, rounded to the second decimal (ex: 4.32)"
   ]
  },
  {
   "cell_type": "markdown",
   "metadata": {},
   "source": [
    "<details>\n",
    "  <summary>View solution</summary>\n",
    " \n",
    "```python\n",
    "question_1_answer = 0.74\n",
    "```\n",
    "</details>"
   ]
  },
  {
   "cell_type": "markdown",
   "metadata": {},
   "source": [
    "2. If your **CGPA is 8.5**, what is the rating of the **best universities** you can apply to and have a probability of more than **50%** to be accepted?"
   ]
  },
  {
   "cell_type": "code",
   "execution_count": 58,
   "metadata": {},
   "outputs": [
    {
     "data": {
      "text/html": [
       "<div>\n",
       "<style scoped>\n",
       "    .dataframe tbody tr th:only-of-type {\n",
       "        vertical-align: middle;\n",
       "    }\n",
       "\n",
       "    .dataframe tbody tr th {\n",
       "        vertical-align: top;\n",
       "    }\n",
       "\n",
       "    .dataframe thead th {\n",
       "        text-align: right;\n",
       "    }\n",
       "</style>\n",
       "<table border=\"1\" class=\"dataframe\">\n",
       "  <thead>\n",
       "    <tr style=\"text-align: right;\">\n",
       "      <th></th>\n",
       "      <th>Rating</th>\n",
       "      <th>CGPA</th>\n",
       "    </tr>\n",
       "  </thead>\n",
       "  <tbody>\n",
       "    <tr>\n",
       "      <td>0</td>\n",
       "      <td>1</td>\n",
       "      <td>8.5</td>\n",
       "    </tr>\n",
       "    <tr>\n",
       "      <td>1</td>\n",
       "      <td>2</td>\n",
       "      <td>8.5</td>\n",
       "    </tr>\n",
       "    <tr>\n",
       "      <td>2</td>\n",
       "      <td>3</td>\n",
       "      <td>8.5</td>\n",
       "    </tr>\n",
       "    <tr>\n",
       "      <td>3</td>\n",
       "      <td>4</td>\n",
       "      <td>8.5</td>\n",
       "    </tr>\n",
       "    <tr>\n",
       "      <td>4</td>\n",
       "      <td>5</td>\n",
       "      <td>8.5</td>\n",
       "    </tr>\n",
       "  </tbody>\n",
       "</table>\n",
       "</div>"
      ],
      "text/plain": [
       "   Rating  CGPA\n",
       "0       1   8.5\n",
       "1       2   8.5\n",
       "2       3   8.5\n",
       "3       4   8.5\n",
       "4       5   8.5"
      ]
     },
     "execution_count": 58,
     "metadata": {},
     "output_type": "execute_result"
    }
   ],
   "source": [
    "# Create a test dataset as previously and make the predictions.\n",
    "test_data3 = {\"Rating\": [1,2,3,4,5], \"CGPA\": [8.5,8.5,8.5,8.5,8.5]}\n",
    "\n",
    "## create dataset\n",
    "test_df3=pd.DataFrame(test_data3)\n",
    "test_df3"
   ]
  },
  {
   "cell_type": "code",
   "execution_count": 59,
   "metadata": {},
   "outputs": [
    {
     "data": {
      "text/plain": [
       "array([[6.82284795e-04, 9.99317715e-01],\n",
       "       [6.40479519e-03, 9.93595205e-01],\n",
       "       [5.73682343e-02, 9.42631766e-01],\n",
       "       [3.64916710e-01, 6.35083290e-01],\n",
       "       [8.44357061e-01, 1.55642939e-01]])"
      ]
     },
     "execution_count": 59,
     "metadata": {},
     "output_type": "execute_result"
    }
   ],
   "source": [
    "pred=model.predict_proba(test_df3)\n",
    "pred"
   ]
  },
  {
   "cell_type": "markdown",
   "metadata": {},
   "source": [
    "<details>\n",
    "  <summary>View solution</summary>\n",
    " \n",
    "```python\n",
    "data = {\"Rating\": [1,2,3,4,5], \"CGPA\": [8.5,8.5,8.5,8.5,8.5]}\n",
    "question_df = pd.DataFrame(data=data)\n",
    "predictions = logmodel.predict_proba(question_df)\n",
    "predictions\n",
    "```\n",
    "</details>"
   ]
  },
  {
   "cell_type": "code",
   "execution_count": 60,
   "metadata": {},
   "outputs": [],
   "source": [
    "# Enter your answer to question 2 here\n",
    "\n",
    "question_2_answer = 4 # replace by the right rating number"
   ]
  },
  {
   "cell_type": "markdown",
   "metadata": {},
   "source": [
    "<details>\n",
    "  <summary>View solution</summary>\n",
    " \n",
    "```python\n",
    "question_2_answer = 4 \n",
    "```\n",
    "</details>"
   ]
  },
  {
   "cell_type": "markdown",
   "metadata": {},
   "source": [
    "3. What should be your CGPA in order to have a probabilty of **80%** to enter in the **best rated** university?"
   ]
  },
  {
   "cell_type": "code",
   "execution_count": 67,
   "metadata": {},
   "outputs": [
    {
     "data": {
      "text/html": [
       "<div>\n",
       "<style scoped>\n",
       "    .dataframe tbody tr th:only-of-type {\n",
       "        vertical-align: middle;\n",
       "    }\n",
       "\n",
       "    .dataframe tbody tr th {\n",
       "        vertical-align: top;\n",
       "    }\n",
       "\n",
       "    .dataframe thead th {\n",
       "        text-align: right;\n",
       "    }\n",
       "</style>\n",
       "<table border=\"1\" class=\"dataframe\">\n",
       "  <thead>\n",
       "    <tr style=\"text-align: right;\">\n",
       "      <th></th>\n",
       "      <th>Rating</th>\n",
       "      <th>CGPA</th>\n",
       "    </tr>\n",
       "  </thead>\n",
       "  <tbody>\n",
       "    <tr>\n",
       "      <td>0</td>\n",
       "      <td>5</td>\n",
       "      <td>9.730</td>\n",
       "    </tr>\n",
       "    <tr>\n",
       "      <td>1</td>\n",
       "      <td>5</td>\n",
       "      <td>9.732</td>\n",
       "    </tr>\n",
       "    <tr>\n",
       "      <td>2</td>\n",
       "      <td>5</td>\n",
       "      <td>9.735</td>\n",
       "    </tr>\n",
       "    <tr>\n",
       "      <td>3</td>\n",
       "      <td>5</td>\n",
       "      <td>9.738</td>\n",
       "    </tr>\n",
       "  </tbody>\n",
       "</table>\n",
       "</div>"
      ],
      "text/plain": [
       "   Rating   CGPA\n",
       "0       5  9.730\n",
       "1       5  9.732\n",
       "2       5  9.735\n",
       "3       5  9.738"
      ]
     },
     "execution_count": 67,
     "metadata": {},
     "output_type": "execute_result"
    }
   ],
   "source": [
    "# Create a test dataset as previously and make the predictions.\n",
    "#test_data4= {\"Rating\": [5, 5, 5, 5, 5, 5, 5, 5, 5], \"CGPA\": [8, 8.3, 8.6, 8.9, 9.2, 9.4, 9.6, 9.7, 9.9]}\n",
    "#test_data4= {\"Rating\": [5, 5, 5, 5], \"CGPA\": [9.7, 9.75, 9.8, 9.9]}\n",
    "test_data4= {\"Rating\": [5, 5, 5, 5], \"CGPA\": [9.73, 9.732, 9.735, 9.738]}\n",
    "## create dataset\n",
    "test_df4=pd.DataFrame(test_data4)\n",
    "test_df4"
   ]
  },
  {
   "cell_type": "code",
   "execution_count": 68,
   "metadata": {},
   "outputs": [
    {
     "data": {
      "text/plain": [
       "array([[0.20095544, 0.79904456],\n",
       "       [0.20015473, 0.79984527],\n",
       "       [0.19895816, 0.80104184],\n",
       "       [0.19776696, 0.80223304]])"
      ]
     },
     "execution_count": 68,
     "metadata": {},
     "output_type": "execute_result"
    }
   ],
   "source": [
    "pred=model.predict_proba(test_df4)\n",
    "pred"
   ]
  },
  {
   "cell_type": "markdown",
   "metadata": {},
   "source": [
    "<details>\n",
    "  <summary>View solution</summary>\n",
    " \n",
    "```python\n",
    "data = {\"Rating\": [5,5,5,5,5], \"CGPA\": [8,8.5,9,9.5,9.8]}\n",
    "question_df = pd.DataFrame(data=data)\n",
    "predictions = logmodel.predict_proba(question_df)\n",
    "predictions[:,1]\n",
    "```\n",
    "</details>"
   ]
  },
  {
   "cell_type": "code",
   "execution_count": 18,
   "metadata": {},
   "outputs": [],
   "source": [
    "# Enter your answer to question 3 here\n",
    "\n",
    "question_3_answer = 9.735 # replace by the right answer, rounded to the first decimal (ex: 4.3)"
   ]
  },
  {
   "cell_type": "markdown",
   "metadata": {},
   "source": [
    "<details>\n",
    "  <summary>View solution</summary>\n",
    " \n",
    "```python\n",
    "question_3_answer = 9.8\n",
    "```\n",
    "</details>"
   ]
  },
  {
   "cell_type": "markdown",
   "metadata": {},
   "source": [
    "4. With the help of you model, can you plot the **probability** to be **admited** in an university **rated 4**, by **CGPA**?"
   ]
  },
  {
   "cell_type": "code",
   "execution_count": 71,
   "metadata": {},
   "outputs": [
    {
     "data": {
      "text/html": [
       "<div>\n",
       "<style scoped>\n",
       "    .dataframe tbody tr th:only-of-type {\n",
       "        vertical-align: middle;\n",
       "    }\n",
       "\n",
       "    .dataframe tbody tr th {\n",
       "        vertical-align: top;\n",
       "    }\n",
       "\n",
       "    .dataframe thead th {\n",
       "        text-align: right;\n",
       "    }\n",
       "</style>\n",
       "<table border=\"1\" class=\"dataframe\">\n",
       "  <thead>\n",
       "    <tr style=\"text-align: right;\">\n",
       "      <th></th>\n",
       "      <th>Rating</th>\n",
       "      <th>CGPA</th>\n",
       "    </tr>\n",
       "  </thead>\n",
       "  <tbody>\n",
       "    <tr>\n",
       "      <td>0</td>\n",
       "      <td>4</td>\n",
       "      <td>4.0</td>\n",
       "    </tr>\n",
       "    <tr>\n",
       "      <td>1</td>\n",
       "      <td>4</td>\n",
       "      <td>5.0</td>\n",
       "    </tr>\n",
       "    <tr>\n",
       "      <td>2</td>\n",
       "      <td>4</td>\n",
       "      <td>6.0</td>\n",
       "    </tr>\n",
       "    <tr>\n",
       "      <td>3</td>\n",
       "      <td>4</td>\n",
       "      <td>6.5</td>\n",
       "    </tr>\n",
       "    <tr>\n",
       "      <td>4</td>\n",
       "      <td>4</td>\n",
       "      <td>7.0</td>\n",
       "    </tr>\n",
       "    <tr>\n",
       "      <td>5</td>\n",
       "      <td>4</td>\n",
       "      <td>7.5</td>\n",
       "    </tr>\n",
       "    <tr>\n",
       "      <td>6</td>\n",
       "      <td>4</td>\n",
       "      <td>8.0</td>\n",
       "    </tr>\n",
       "    <tr>\n",
       "      <td>7</td>\n",
       "      <td>4</td>\n",
       "      <td>8.5</td>\n",
       "    </tr>\n",
       "    <tr>\n",
       "      <td>8</td>\n",
       "      <td>4</td>\n",
       "      <td>9.0</td>\n",
       "    </tr>\n",
       "    <tr>\n",
       "      <td>9</td>\n",
       "      <td>4</td>\n",
       "      <td>9.5</td>\n",
       "    </tr>\n",
       "    <tr>\n",
       "      <td>10</td>\n",
       "      <td>4</td>\n",
       "      <td>10.0</td>\n",
       "    </tr>\n",
       "  </tbody>\n",
       "</table>\n",
       "</div>"
      ],
      "text/plain": [
       "    Rating  CGPA\n",
       "0        4   4.0\n",
       "1        4   5.0\n",
       "2        4   6.0\n",
       "3        4   6.5\n",
       "4        4   7.0\n",
       "5        4   7.5\n",
       "6        4   8.0\n",
       "7        4   8.5\n",
       "8        4   9.0\n",
       "9        4   9.5\n",
       "10       4  10.0"
      ]
     },
     "execution_count": 71,
     "metadata": {},
     "output_type": "execute_result"
    }
   ],
   "source": [
    "# Create a line-plot of the probability to be admited in a university rated 4, by CGPA\n",
    "test_data5= {\"Rating\": [4, 4, 4, 4, 4, 4, 4, 4, 4, 4, 4], \"CGPA\": [4, 5, 6, 6.5, 7, 7.5, 8, 8.5, 9, 9.5, 10]}\n",
    "## create dataset\n",
    "test_df5=pd.DataFrame(test_data5)\n",
    "test_df5"
   ]
  },
  {
   "cell_type": "code",
   "execution_count": 72,
   "metadata": {},
   "outputs": [
    {
     "data": {
      "text/plain": [
       "array([[9.99977058e-01, 2.29415250e-05],\n",
       "       [9.99721416e-01, 2.78584359e-04],\n",
       "       [9.96626694e-01, 3.37330597e-03],\n",
       "       [9.88341226e-01, 1.16587737e-02],\n",
       "       [9.60511444e-01, 3.94885557e-02],\n",
       "       [8.74674887e-01, 1.25325113e-01],\n",
       "       [6.66951007e-01, 3.33048993e-01],\n",
       "       [3.64916710e-01, 6.35083290e-01],\n",
       "       [1.41534739e-01, 8.58465261e-01],\n",
       "       [4.51693588e-02, 9.54830641e-01],\n",
       "       [1.33918183e-02, 9.86608182e-01]])"
      ]
     },
     "execution_count": 72,
     "metadata": {},
     "output_type": "execute_result"
    }
   ],
   "source": [
    "pred=model.predict_proba(test_df5)\n",
    "pred"
   ]
  },
  {
   "cell_type": "markdown",
   "metadata": {},
   "source": [
    "<details>\n",
    "  <summary>View solution</summary>\n",
    " \n",
    "```python\n",
    "data = {\"Rating\": [4,4,4,4,4,4,4,4,4,4,4], \"CGPA\": [5,5.5,6,6.5,7,7.5,8,8.5,9,9.5,10]}\n",
    "question_df = pd.DataFrame(data=data)\n",
    "predictions = logmodel.predict_proba(question_df)\n",
    "predictions[:,1]\n",
    "plt.plot(question_df[\"CGPA\"],predictions[:,1]) \n",
    "```\n",
    "</details>"
   ]
  },
  {
   "cell_type": "markdown",
   "metadata": {},
   "source": [
    "### (Optional)\n",
    "\n",
    "This **dataset** has been **generated** and the model behind it look like this:\n",
    "<details>\n",
    "  <summary>🚫Open only if you have completed the exercise 🚫</summary>\n",
    "    <img src=\"https://i.ibb.co/n67YMx5/Screen-Shot-2019-09-24-at-20-31-13.png\" alt=\"Screen-Shot-2019-09-24-at-20-31-13\" border=\"0\" width=\"400px\">\n",
    "</details>\n",
    "\n",
    "Create a **line plot** of the model you have created."
   ]
  },
  {
   "cell_type": "code",
   "execution_count": 78,
   "metadata": {},
   "outputs": [],
   "source": [
    "gadm_df_final=gadm_df.drop(columns=['Admited'])\n",
    "pred_final=model.predict_proba(gadm_df_final)"
   ]
  },
  {
   "cell_type": "code",
   "execution_count": 82,
   "metadata": {},
   "outputs": [
    {
     "data": {
      "text/plain": [
       "array([[0.8781036 , 0.1218964 ],\n",
       "       [0.65162685, 0.34837315],\n",
       "       [0.42611923, 0.57388077],\n",
       "       ...,\n",
       "       [0.69361002, 0.30638998],\n",
       "       [0.6147841 , 0.3852159 ],\n",
       "       [0.74870626, 0.25129374]])"
      ]
     },
     "execution_count": 82,
     "metadata": {},
     "output_type": "execute_result"
    }
   ],
   "source": [
    "pred_final"
   ]
  },
  {
   "cell_type": "code",
   "execution_count": 86,
   "metadata": {},
   "outputs": [
    {
     "data": {
      "text/plain": [
       "Text(0, 0.5, 'Admitted')"
      ]
     },
     "execution_count": 86,
     "metadata": {},
     "output_type": "execute_result"
    },
    {
     "data": {
      "image/png": "[encoded data removed]",
      "text/plain": [
       "<Figure size 432x288 with 1 Axes>"
      ]
     },
     "metadata": {
      "needs_background": "light"
     },
     "output_type": "display_data"
    }
   ],
   "source": [
    "## Your code here\n",
    "lp = sns.lineplot(x=\"CGPA\", y=pred_final[:,1] , data=gadm_df_final, hue=\"Rating\")\n",
    "lp.set_ylabel(\"Admitted\")"
   ]
  },
  {
   "cell_type": "markdown",
   "metadata": {},
   "source": [
    "<details>\n",
    "  <summary>View solution</summary>\n",
    " \n",
    "```python\n",
    "data = {\"Rating\": [1,1,1,1,1,1,1,1,1,1,1], \"CGPA\": [5,5.5,6,6.5,7,7.5,8,8.5,9,9.5,10]}\n",
    "question_df = pd.DataFrame(data=data)\n",
    "predictions = logmodel.predict_proba(question_df)\n",
    "predictions[:,1]\n",
    "plt.plot(question_df[\"CGPA\"],predictions[:,1])\n",
    "\n",
    "data = {\"Rating\": [2,2,2,2,2,2,2,2,2,2,2], \"CGPA\": [5,5.5,6,6.5,7,7.5,8,8.5,9,9.5,10]}\n",
    "question_df = pd.DataFrame(data=data)\n",
    "predictions = logmodel.predict_proba(question_df)\n",
    "predictions[:,1]\n",
    "plt.plot(question_df[\"CGPA\"],predictions[:,1]) \n",
    "\n",
    "data = {\"Rating\": [3,3,3,3,3,3,3,3,3,3,3], \"CGPA\": [5,5.5,6,6.5,7,7.5,8,8.5,9,9.5,10]}\n",
    "question_df = pd.DataFrame(data=data)\n",
    "predictions = logmodel.predict_proba(question_df)\n",
    "predictions[:,1]\n",
    "plt.plot(question_df[\"CGPA\"],predictions[:,1])\n",
    "\n",
    "data = {\"Rating\": [4,4,4,4,4,4,4,4,4,4,4], \"CGPA\": [5,5.5,6,6.5,7,7.5,8,8.5,9,9.5,10]}\n",
    "question_df = pd.DataFrame(data=data)\n",
    "predictions = logmodel.predict_proba(question_df)\n",
    "predictions[:,1]\n",
    "plt.plot(question_df[\"CGPA\"],predictions[:,1]) \n",
    "\n",
    "data = {\"Rating\": [5,5,5,5,5,5,5,5,5,5,5], \"CGPA\": [5,5.5,6,6.5,7,7.5,8,8.5,9,9.5,10]}\n",
    "question_df = pd.DataFrame(data=data)\n",
    "predictions = logmodel.predict_proba(question_df)\n",
    "predictions[:,1]\n",
    "plt.plot(question_df[\"CGPA\"],predictions[:,1]) \n",
    "plt.show()\n",
    "```\n",
    "</details>"
   ]
  }
 ],
 "metadata": {
  "kernelspec": {
   "display_name": "Python 3",
   "language": "python",
   "name": "python3"
  },
  "language_info": {
   "codemirror_mode": {
    "name": "ipython",
    "version": 3
   },
   "file_extension": ".py",
   "mimetype": "text/x-python",
   "name": "python",
   "nbconvert_exporter": "python",
   "pygments_lexer": "ipython3",
   "version": "3.8.3"
  }
 },
 "nbformat": 4,
 "nbformat_minor": 4
}
