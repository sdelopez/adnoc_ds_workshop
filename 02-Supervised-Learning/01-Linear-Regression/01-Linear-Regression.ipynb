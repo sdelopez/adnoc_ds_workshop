{
 "cells": [
  {
   "cell_type": "markdown",
   "metadata": {},
   "source": [
    "# Challenge 1 - Linear Regression\n",
    "\n",
    "In this first exercice, we will create linear regression models and emphasize how to use sklearn to do so.\n",
    "\n",
    "We will start with a simple modeling of two data points and then focus on the practical steps needed to apply them to more complicated situations.\n",
    "\n",
    "## 1. Predicting Apartement Prices\n",
    "\n",
    "We will create a linear regression model and apply it to a simple dataset to get insights about the process and the theory. The idea is to start simple, get insights, and then add complexity.\n",
    "\n",
    "[Scikit-Learn](https://scikit-learn.org/stable/) is a Python library containing a lot of machine learning algorithm implementations. You will see that it allows us to do a linear regression in [a few line of code](https://scikit-learn.org/stable/modules/linear_model.html#ordinary-least-squares)!\n",
    "\n",
    "We will use some data about the price of Paris apartments. We took two apartments located in the third arrondissement of Paris from the website [seloger](https://www.seloger.com/list.htm?tri=initial&enterprise=0&idtypebien=2,1&idtt=2,5&naturebien=1,2,4&ci=750103), and reported the area (in square meters) and price (in euros):\n",
    "\n",
    "Square Meters | Price\n",
    ":---:|:---:\n",
    "39   |550000\n",
    "47   |577000\n",
    "\n",
    "The goal is to model the relationship between the area (the feature or independent variable of our model) and the price (the ground truth or the dependent variable).\n",
    "\n",
    "Let's start by importing the librairies we'll use:"
   ]
  },
  {
   "cell_type": "code",
   "execution_count": 2,
   "metadata": {},
   "outputs": [],
   "source": [
    "import matplotlib.pyplot as plt\n",
    "import numpy as np\n",
    "import pandas as pd"
   ]
  },
  {
   "cell_type": "markdown",
   "metadata": {},
   "source": [
    "### 1.1 Data Structure\n",
    "\n",
    "We need to create a small dataset with this data. Many ways are possible to structure your data. However, we would like our data to be easily plugged as input of machine learning libraries (such as sklearn).\n",
    "\n",
    "Please have a look at the [LinearRegression documentation of sklearn](https://scikit-learn.org/stable/modules/generated/sklearn.linear_model.LinearRegression.html). We will use `fit()`, a method of the class `LinearRegression` to get the model's parameters from our data (the two apartments). Your first job is to structure the data so that it is usable for a Sklearn linear model."
   ]
  },
  {
   "cell_type": "code",
   "execution_count": 8,
   "metadata": {},
   "outputs": [
    {
     "data": {
      "text/plain": [
       "(2, 1)"
      ]
     },
     "execution_count": 8,
     "metadata": {},
     "output_type": "execute_result"
    }
   ],
   "source": [
    "appart_df=pd.DataFrame({\"Sqm\": [39,47], \"Price\": [550000, 577000]})\n",
    "appart_df\n",
    "sqm=np.array([[39], [47]])\n",
    "sqm.shape\n",
    "price=np.array([[550000], [577000]])\n",
    "price.shape"
   ]
  },
  {
   "cell_type": "code",
   "execution_count": 12,
   "metadata": {},
   "outputs": [
    {
     "data": {
      "text/plain": [
       "array([[39],\n",
       "       [47]])"
      ]
     },
     "execution_count": 12,
     "metadata": {},
     "output_type": "execute_result"
    }
   ],
   "source": [
    "sqm"
   ]
  },
  {
   "cell_type": "code",
   "execution_count": null,
   "metadata": {},
   "outputs": [],
   "source": []
  },
  {
   "cell_type": "markdown",
   "metadata": {},
   "source": [
    "<details>\n",
    "  <summary>Hint</summary>\n",
    "We can read in the documentation that:\n",
    "\n",
    "```markdown\n",
    "X : array-like or sparse matrix, shape (n_samples, n_features)\n",
    "Training data\n",
    "\n",
    "y : array_like, shape (n_samples, n_targets)\n",
    "Target values. Will be cast to X’s dtype if necessary\n",
    "```\n",
    "\n",
    "This tells us how to input data into the model. The feature values and the real values are given separately as two arguments `X` and `y`.\n",
    "</details>\n",
    "\n",
    "<details>\n",
    "  <summary>View solution</summary>\n",
    "`X` need to be an `array-like` (for instance, a Python list or a Numpy array) or a `sparse matrix` (for instance created from `scipy.sparse` methods). The shape of `X` is `(n_samples, n_features)`: the number of rows corresponds to the number of observation (in our case the number of apartments) and the number of columns to the number of feature (in our case, only 1: the area in square meters).\n",
    "\n",
    "We will create a two-dimensional Numpy array `X`:\n",
    "\n",
    "```python\n",
    "X = np.array([[39], [47]])\n",
    "```\n",
    "\n",
    "When we manipulate vectors and matrices, this is very important to check their shapes along the way. This will prevent a lot of bugs. So, let's do that and have a look at `X`'s shape:\n",
    "\n",
    "```python\n",
    "X.shape\n",
    "```\n",
    "\n",
    "Is it corresponding to what we want (`(n_samples, n_features)`)? Our dataset is composed of two samples (apartments) and one feature (square meters) so this looks good! Looking at `X` is also helpful to check that everything is what we expect:\n",
    "\n",
    "```python\n",
    "X\n",
    "```\n",
    "\n",
    "This matrix (or array, using the terminology of Numpy) has two rows and one column.\n",
    "\n",
    "Note that in the context of machine learning, Numpy arrays are programming data structure used to represent mathematical concepts of vectors and matrices. In this case, `X` is a two-dimensional array but could also be considered as a column vector.\n",
    "\n",
    "Then we will create the array `y` storing the target values. Target values are the true values of our apartment prices. The documentation says that the shape of `y` is `(n_samples, n_targets)`. Again, `n_samples` is the number of apartments and `n_targets` is the number of predicted values: in our case, this is one (the price). We have to be careful to the order of the values: the first row of `X` has to correspond to the first row of `y`.\n",
    "\n",
    "Let's create `y` from data in the table above, check its shape and have a look at it, like we did with `X`:\n",
    "\n",
    "```python\n",
    "y = np.array([550000, 577000])\n",
    "y.shape\n",
    "y\n",
    "```\n",
    "</details>\n",
    "\n"
   ]
  },
  {
   "cell_type": "markdown",
   "metadata": {},
   "source": [
    "### 1.2. Data Visualization\n",
    "\n",
    "Now, that you have created the dataset with variables `X` and `y`, we will have a look at the data. Data visualization is useful to check that everything is what we expected.\n",
    "\n",
    "Your next job is to create a scatter plot showing the price ($y$ axis) versus the area in squared meters ($x$ axis)."
   ]
  },
  {
   "cell_type": "code",
   "execution_count": 10,
   "metadata": {},
   "outputs": [
    {
     "data": {
      "image/png": "[encoded data removed]",
      "text/plain": [
       "<Figure size 432x288 with 1 Axes>"
      ]
     },
     "metadata": {
      "needs_background": "light"
     },
     "output_type": "display_data"
    }
   ],
   "source": [
    "# Your code here\n",
    "plt.scatter(sqm, price)\n",
    "plt.title('Price vs Surface')\n",
    "plt.xlabel('Sqm')\n",
    "plt.ylabel('Price')\n",
    "plt.show()"
   ]
  },
  {
   "cell_type": "markdown",
   "metadata": {},
   "source": [
    "<details>\n",
    "  <summary>Hint</summary>\n",
    "    Remember the scatter method in pandas... \n",
    "</details>\n",
    "\n",
    "<details>\n",
    "  <summary>View solution</summary>\n",
    "\n",
    "```python\n",
    "plt.scatter(X, y)\n",
    "plt.xlabel('Area (square meter)')\n",
    "plt.ylabel('Price (euros)')\n",
    "```\n",
    "</details>"
   ]
  },
  {
   "cell_type": "markdown",
   "metadata": {},
   "source": [
    "### 1.3. Modeling\n",
    "\n",
    "Before feeding your data to any machine learning algorithm, ask yourself the question: \"how would I do the task manually?\". If the answer is not obvious, the problem might need to be reframed. Here, we want to fit a line to our data. Since there are only two datapoints, this line can perfectly fit the data: this is the line passing by both points.\n",
    "\n",
    "It can be easy to get lost while building a machine learning pipeline. Starting with a simple case will allow us to easily check that the algorithm is working as expected and create a healthy workflow.\n",
    "\n",
    "Your task is now to create a linear regression model with Sklearn and fit our dataset. To check that it worked, use the `score()` method from `LinearRegression`: it should return a score of 1, corresponding to a perfect fit."
   ]
  },
  {
   "cell_type": "code",
   "execution_count": 19,
   "metadata": {},
   "outputs": [
    {
     "data": {
      "text/plain": [
       "1.0"
      ]
     },
     "execution_count": 19,
     "metadata": {},
     "output_type": "execute_result"
    }
   ],
   "source": [
    "# Your code here\n",
    "from sklearn.linear_model import LinearRegression\n",
    "\n",
    "model=LinearRegression()\n",
    "model.fit(sqm, price)\n",
    "model.score(sqm, price)"
   ]
  },
  {
   "cell_type": "markdown",
   "metadata": {},
   "source": [
    "<details>\n",
    "  <summary>Hint</summary>\n",
    "    Check the lecture slides, they will help you !\n",
    "</details>\n",
    "\n",
    "<details>\n",
    "  <summary>View solution</summary>\n",
    "\n",
    "```python\n",
    "from sklearn.linear_model import LinearRegression\n",
    "\n",
    "reg = LinearRegression()\n",
    "reg.fit(X, y)\n",
    "```\n",
    "\n",
    "That was not that hard! We can check that there is no error in the fit since there are only two points:\n",
    "```python\n",
    "reg.score(X, y)\n",
    "```\n",
    "</details>"
   ]
  },
  {
   "cell_type": "markdown",
   "metadata": {},
   "source": [
    "### 1.4. Plot the Regression Line\n",
    "\n",
    "That's all! We trained our first linear regression algorithm! Now you will plot the regression line to be sure that it passes through our two points.\n",
    "\n",
    "- 1. Get our model's parameters (corresponding to the intercept and the slope).\n",
    "- 2. Plot the regression line along with the scatter plot of our apartments (the two points)."
   ]
  },
  {
   "cell_type": "code",
   "execution_count": 22,
   "metadata": {},
   "outputs": [],
   "source": [
    "# Your code here for 1\n",
    "# price = a*sqm+b\n",
    "a=model.coef_\n",
    "b=model.intercept_"
   ]
  },
  {
   "cell_type": "markdown",
   "metadata": {},
   "source": [
    "<details>\n",
    "  <summary>Hint</summary>\n",
    "    You cannot invent it ! You have to check scikit-learn's documentation for Linear Regression !\n",
    "</details>\n",
    "<details>\n",
    "  <summary>View solution</summary>\n",
    "\n",
    "```python\n",
    "a, b = reg.coef_, reg.intercept_ \n",
    "```\n",
    "</details>\n"
   ]
  },
  {
   "cell_type": "code",
   "execution_count": 26,
   "metadata": {},
   "outputs": [
    {
     "data": {
      "image/png": "[encoded data removed]",
      "text/plain": [
       "<Figure size 432x288 with 1 Axes>"
      ]
     },
     "metadata": {
      "needs_background": "light"
     },
     "output_type": "display_data"
    }
   ],
   "source": [
    "# Your code here for 2\n",
    "price_pred=model.predict(sqm)\n",
    "plt.scatter(sqm, price)\n",
    "plt.title('Price vs Surface')\n",
    "plt.xlabel('Sqm')\n",
    "plt.ylabel('Price')\n",
    "plt.plot(sqm, price_pred, color='green');\n",
    "plt.show()"
   ]
  },
  {
   "cell_type": "markdown",
   "metadata": {},
   "source": [
    "<details>\n",
    "  <summary>Hint 1</summary>\n",
    "    With 1., you have access to the equation of a line !\n",
    "</details>\n",
    "\n",
    "<details>\n",
    "  <summary>Hint 2</summary>\n",
    "    There is a similar case in the lecture slides !\n",
    "</details>\n",
    "\n",
    "<details>\n",
    "  <summary>View solution</summary>\n",
    "Since Matplotlib undertands only mapping between the $x$ and the $y$ axis, we need to convert the line equation given by $a$ and $b$ to pairs of values corresponding to $x$ and $y$. The equation of a line is:\n",
    "\n",
    "$$\n",
    "y = ax + b\n",
    "$$\n",
    "\n",
    "with $x$ and $y$ our two axes, $a$ the slope of the line and $b$ the intercept.\n",
    "\n",
    "We would need only two $(x, y)$ pairs to draw the line. However, let's use a more general way to plot mathematical functions (not only linear ones). We will create an array corresponding to all $x$ values of the mapping with values from a minimum to a maximum\n",
    "\n",
    "```python\n",
    "x_line = np.arange(35, 50)\n",
    "```\n",
    "And then, calculate the corresponding $y$ value for each element of this array:\n",
    "```python\n",
    "y_line = a * x_line + b\n",
    "```\n",
    "We can plot these mappings with the following code:\n",
    "```python\n",
    "plt.plot(x_line, y_line)\n",
    "plt.scatter(X, y)\n",
    "plt.xlabel('Area (square meter)')\n",
    "plt.ylabel('Price (euros)')\n",
    "```\n",
    "</details>\n",
    "\n"
   ]
  },
  {
   "cell_type": "markdown",
   "metadata": {},
   "source": [
    "### 1.5. New Apartment Price Prediction\n",
    "\n",
    "You will now create the last block of our machine learning pipeline: the price prediction of a new apartment using the area feature as input.\n",
    "\n",
    "Your friend Bob is asking for advice as he wants to sell his apartment. He gives you the area in square meters and ask you how much could he sell it. Your task is to use your model to predict the price of Bob's apartment:\n",
    "\n",
    "Square Meters | Price\n",
    ":---:|:---:\n",
    "34   |?\n",
    "\n",
    "Feel free to use the [sklearn documentation](https://scikit-learn.org/stable/modules/generated/sklearn.linear_model.LinearRegression.html). It is great and shows examples."
   ]
  },
  {
   "cell_type": "code",
   "execution_count": 28,
   "metadata": {},
   "outputs": [
    {
     "data": {
      "text/plain": [
       "array([[533125.]])"
      ]
     },
     "execution_count": 28,
     "metadata": {},
     "output_type": "execute_result"
    }
   ],
   "source": [
    "# Your code here\n",
    "sqm_test=np.array([[34]])\n",
    "sqm_test.shape\n",
    "price_pred=model.predict(sqm_test)\n",
    "price_pred"
   ]
  },
  {
   "cell_type": "markdown",
   "metadata": {},
   "source": [
    "<details>\n",
    "  <summary>View solution</summary>\n",
    "\n",
    "```python\n",
    "reg.predict(np.array([[34]]))\n",
    "```\n",
    "</details>"
   ]
  },
  {
   "cell_type": "markdown",
   "metadata": {},
   "source": [
    "Meanwhile, Bob sold his apartment.\n",
    "<details>\n",
    "  <summary>Here is the true price.</summary>\n",
    "  He sold it for 445000 euros.\n",
    "</details>\n",
    "\n",
    "What do you think of your prediction? Is it accurate? What was your logic to estimate your model's error?"
   ]
  },
  {
   "cell_type": "markdown",
   "metadata": {},
   "source": [
    "### 1.6. More data\n",
    "\n",
    "Now that we have created a linear regression model and applied it to our two apartments, let's try to improve our model by using more apartments.\n",
    "\n",
    "You will train a new linear regression model with more data and try again to predict the price of the last apartment.\n",
    "\n",
    "Square Meters | Price\n",
    ":---:|:---:\n",
    "32   |489,000\n",
    "28   |336,000\n",
    "47   |494,000\n",
    "7    |85,000\n",
    "85   |1,595,000\n",
    "12   |130,000\n",
    "16   |173,000\n",
    "53   |520,000\n",
    "30   |320,000\n",
    "41   |660,000\n",
    "\n",
    "Try to use these new data to train your model. You can use the same kind of workflow:\n",
    "\n",
    "- Create the input data structure `X` and `y`.\n",
    "- Check shape of input data.\n",
    "- Have a look at the data with visualization: plot the appartments on a figure (F).\n",
    "- Clarify the problem we are trying to solve.\n",
    "- Train the model using sklearn (don't include Bob's apartment).\n",
    "- Plot the regression line on figure (F).\n",
    "- Predict again the price of Bob's apartement.\n",
    "- Plot Bob's appartment on the same figure (F)."
   ]
  },
  {
   "cell_type": "code",
   "execution_count": 3,
   "metadata": {},
   "outputs": [
    {
     "ename": "NameError",
     "evalue": "name 'sqm' is not defined",
     "output_type": "error",
     "traceback": [
      "\u001b[1;31m---------------------------------------------------------------------------\u001b[0m",
      "\u001b[1;31mNameError\u001b[0m                                 Traceback (most recent call last)",
      "\u001b[1;32m<ipython-input-3-75222c5fa982>\u001b[0m in \u001b[0;36m<module>\u001b[1;34m\u001b[0m\n\u001b[0;32m      1\u001b[0m \u001b[1;31m# You code here\u001b[0m\u001b[1;33m\u001b[0m\u001b[1;33m\u001b[0m\u001b[1;33m\u001b[0m\u001b[0m\n\u001b[0;32m      2\u001b[0m \u001b[0msqm_train\u001b[0m\u001b[1;33m=\u001b[0m\u001b[0mnp\u001b[0m\u001b[1;33m.\u001b[0m\u001b[0marray\u001b[0m\u001b[1;33m(\u001b[0m\u001b[1;33m[\u001b[0m\u001b[1;33m[\u001b[0m\u001b[1;36m32\u001b[0m\u001b[1;33m]\u001b[0m\u001b[1;33m,\u001b[0m \u001b[1;33m[\u001b[0m\u001b[1;36m28\u001b[0m\u001b[1;33m]\u001b[0m\u001b[1;33m,\u001b[0m \u001b[1;33m[\u001b[0m\u001b[1;36m47\u001b[0m\u001b[1;33m]\u001b[0m\u001b[1;33m,\u001b[0m \u001b[1;33m[\u001b[0m\u001b[1;36m7\u001b[0m\u001b[1;33m]\u001b[0m\u001b[1;33m,\u001b[0m \u001b[1;33m[\u001b[0m\u001b[1;36m85\u001b[0m\u001b[1;33m]\u001b[0m\u001b[1;33m,\u001b[0m \u001b[1;33m[\u001b[0m\u001b[1;36m12\u001b[0m\u001b[1;33m]\u001b[0m\u001b[1;33m,\u001b[0m \u001b[1;33m[\u001b[0m\u001b[1;36m16\u001b[0m\u001b[1;33m]\u001b[0m\u001b[1;33m,\u001b[0m \u001b[1;33m[\u001b[0m\u001b[1;36m53\u001b[0m\u001b[1;33m]\u001b[0m\u001b[1;33m,\u001b[0m \u001b[1;33m[\u001b[0m\u001b[1;36m30\u001b[0m\u001b[1;33m]\u001b[0m\u001b[1;33m,\u001b[0m \u001b[1;33m[\u001b[0m\u001b[1;36m41\u001b[0m\u001b[1;33m]\u001b[0m\u001b[1;33m]\u001b[0m\u001b[1;33m)\u001b[0m\u001b[1;33m\u001b[0m\u001b[1;33m\u001b[0m\u001b[0m\n\u001b[1;32m----> 3\u001b[1;33m \u001b[0msqm\u001b[0m\u001b[1;33m.\u001b[0m\u001b[0mshape\u001b[0m\u001b[1;33m\u001b[0m\u001b[1;33m\u001b[0m\u001b[0m\n\u001b[0m\u001b[0;32m      4\u001b[0m \u001b[0mprice_train\u001b[0m\u001b[1;33m=\u001b[0m\u001b[0mnp\u001b[0m\u001b[1;33m.\u001b[0m\u001b[0marray\u001b[0m\u001b[1;33m(\u001b[0m\u001b[1;33m[\u001b[0m\u001b[1;33m[\u001b[0m\u001b[1;36m489000\u001b[0m\u001b[1;33m]\u001b[0m\u001b[1;33m,\u001b[0m \u001b[1;33m[\u001b[0m\u001b[1;36m336000\u001b[0m\u001b[1;33m]\u001b[0m\u001b[1;33m,\u001b[0m \u001b[1;33m[\u001b[0m\u001b[1;36m494000\u001b[0m\u001b[1;33m]\u001b[0m\u001b[1;33m,\u001b[0m \u001b[1;33m[\u001b[0m\u001b[1;36m85000\u001b[0m\u001b[1;33m]\u001b[0m\u001b[1;33m,\u001b[0m \u001b[1;33m[\u001b[0m\u001b[1;36m1595000\u001b[0m\u001b[1;33m]\u001b[0m\u001b[1;33m,\u001b[0m \u001b[1;33m[\u001b[0m\u001b[1;36m130000\u001b[0m\u001b[1;33m]\u001b[0m\u001b[1;33m,\u001b[0m \u001b[1;33m[\u001b[0m\u001b[1;36m173000\u001b[0m\u001b[1;33m]\u001b[0m\u001b[1;33m,\u001b[0m \u001b[1;33m[\u001b[0m\u001b[1;36m520000\u001b[0m\u001b[1;33m]\u001b[0m\u001b[1;33m,\u001b[0m \u001b[1;33m[\u001b[0m\u001b[1;36m320000\u001b[0m\u001b[1;33m]\u001b[0m\u001b[1;33m,\u001b[0m \u001b[1;33m[\u001b[0m\u001b[1;36m660000\u001b[0m\u001b[1;33m]\u001b[0m\u001b[1;33m]\u001b[0m\u001b[1;33m)\u001b[0m\u001b[1;33m\u001b[0m\u001b[1;33m\u001b[0m\u001b[0m\n\u001b[0;32m      5\u001b[0m \u001b[0mprice_train\u001b[0m\u001b[1;33m.\u001b[0m\u001b[0mshape\u001b[0m\u001b[1;33m\u001b[0m\u001b[1;33m\u001b[0m\u001b[0m\n",
      "\u001b[1;31mNameError\u001b[0m: name 'sqm' is not defined"
     ]
    }
   ],
   "source": [
    "# You code here\n",
    "sqm_train=np.array([[32], [28], [47], [7], [85], [12], [16], [53], [30], [41]])\n",
    "sqm.shape\n",
    "price_train=np.array([[489000], [336000], [494000], [85000], [1595000], [130000], [173000], [520000], [320000], [660000]])\n",
    "price_train.shape\n",
    "plt.scatter(sqm_train, price_train)\n",
    "plt.title('Price vs Surface')\n",
    "plt.xlabel('Sqm')\n",
    "plt.ylabel('Price')\n",
    "price_pred=model.predict(sqm_train)\n",
    "plt.plot(sqm_train, price_pred, color='green');\n",
    "plt.show()\n",
    "\n",
    "model.fit(sqm_train, price_train)\n",
    "model.predict(sqm_test)"
   ]
  },
  {
   "cell_type": "code",
   "execution_count": 42,
   "metadata": {},
   "outputs": [
    {
     "data": {
      "text/plain": [
       "0.8827616814614243"
      ]
     },
     "execution_count": 42,
     "metadata": {},
     "output_type": "execute_result"
    }
   ],
   "source": [
    "model.score(sqm_train, price_train)"
   ]
  },
  {
   "cell_type": "code",
   "execution_count": null,
   "metadata": {},
   "outputs": [],
   "source": []
  },
  {
   "cell_type": "markdown",
   "metadata": {},
   "source": [
    "<details>\n",
    "  <summary>View solution</summary>\n",
    "\n",
    "Here is the data structure we need for our data:\n",
    "```python\n",
    "X = np.array([[32], [28], [47], [7], [85], [12], [16], [53], [30], [41]])\n",
    "y = np.array([489000, 336000, 494000, 85000, 1595000, 130000, 173000, 520000, 320000, 660000])\n",
    "```\n",
    "As we have seen, this is almost always a good idea to start with a visual representation of the data. Try to do a scatter plot with $y$ in function of $X$ like we did it above.\n",
    "```python\n",
    "plt.scatter(X, y)\n",
    "plt.xlabel('Area (square meter)')\n",
    "plt.ylabel('Price (euros)')\n",
    "```\n",
    "It looks good! We can see that the apartment price insreases with the area, which makes sense.\n",
    "\n",
    "Let's do the regression:\n",
    "```python\n",
    "reg = LinearRegression()\n",
    "reg.fit(X, y)\n",
    "```\n",
    "Now that we have our model, we can try again to predict Bob's apartment price:\n",
    "```python\n",
    "reg.predict(np.array([[34]]))\n",
    "```\n",
    "We can see that the predicted price is around 460,000 euros with our new model. This is closer to the real price (445,000 euros).\n",
    "Adding few observations in our training set has improved our model.\n",
    "</details>"
   ]
  }
 ],
 "metadata": {
  "kernelspec": {
   "display_name": "Python 3",
   "language": "python",
   "name": "python3"
  },
  "language_info": {
   "codemirror_mode": {
    "name": "ipython",
    "version": 3
   },
   "file_extension": ".py",
   "mimetype": "text/x-python",
   "name": "python",
   "nbconvert_exporter": "python",
   "pygments_lexer": "ipython3",
   "version": "3.7.9"
  }
 },
 "nbformat": 4,
 "nbformat_minor": 4
}
