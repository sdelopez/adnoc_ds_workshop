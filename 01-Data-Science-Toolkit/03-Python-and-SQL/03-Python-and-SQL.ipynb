{
 "cells": [
  {
   "cell_type": "markdown",
   "metadata": {},
   "source": [
    "## Challenge 3 - Python and SQL"
   ]
  },
  {
   "cell_type": "markdown",
   "metadata": {},
   "source": [
    "## SQL & Python"
   ]
  },
  {
   "cell_type": "markdown",
   "metadata": {},
   "source": [
    "#### Load dependencies"
   ]
  },
  {
   "cell_type": "code",
   "execution_count": 2,
   "metadata": {},
   "outputs": [],
   "source": [
    "import sqlite3"
   ]
  },
  {
   "cell_type": "markdown",
   "metadata": {},
   "source": [
    "#### Connect to our database"
   ]
  },
  {
   "cell_type": "code",
   "execution_count": 4,
   "metadata": {},
   "outputs": [],
   "source": [
    "conn = sqlite3.connect('database.sqlite')\n",
    "db = conn.cursor()"
   ]
  },
  {
   "cell_type": "markdown",
   "metadata": {},
   "source": [
    "#### Query skeleton"
   ]
  },
  {
   "cell_type": "markdown",
   "metadata": {},
   "source": [
    "Each of our method will take this `db` argument, which is a connection to the database, on which you can call the `execute` method.  \n",
    "The skeleton of a query using Python's sqlite3 should look like this:"
   ]
  },
  {
   "cell_type": "code",
   "execution_count": 8,
   "metadata": {},
   "outputs": [
    {
     "data": {
      "text/plain": [
       "[('Belgium', 1, 1728),\n",
       " ('England', 1729, 3040),\n",
       " ('France', 4769, 3040),\n",
       " ('Germany', 7809, 2448),\n",
       " ('Italy', 10257, 3017),\n",
       " ('Netherlands', 13274, 2448),\n",
       " ('Poland', 15722, 1920),\n",
       " ('Portugal', 17642, 2052),\n",
       " ('Scotland', 19694, 1824),\n",
       " ('Spain', 21518, 3040),\n",
       " ('Switzerland', 24558, 1422)]"
      ]
     },
     "execution_count": 8,
     "metadata": {},
     "output_type": "execute_result"
    }
   ],
   "source": [
    "def the_method(db):\n",
    "    results = db.execute(\"select c.name, l.id, count(m.id) as Nb_Match from Match m JOIN Country c ON c.id=l.country_id JOIN League l ON l.id=m.league_id GROUP BY l.id\")\n",
    "    results = results.fetchall()\n",
    "    # results in a list (rows) of list (columns)\n",
    "    return results\n",
    "\n",
    "the_method(db)"
   ]
  },
  {
   "cell_type": "markdown",
   "metadata": {},
   "source": [
    "For example, if we asked you to return 3 countries from the soccer database, you would write the following method and run it:"
   ]
  },
  {
   "cell_type": "code",
   "execution_count": 7,
   "metadata": {},
   "outputs": [
    {
     "data": {
      "text/plain": [
       "[('Belgium',), ('England',), ('France',)]"
      ]
     },
     "execution_count": 7,
     "metadata": {},
     "output_type": "execute_result"
    }
   ],
   "source": [
    "# Your method\n",
    "def three_countries(db):\n",
    "    results = db.execute(\"SELECT name FROM country LIMIT 3\")\n",
    "    results = results.fetchall()\n",
    "    return results\n",
    "  \n",
    "# Method call\n",
    "three_countries(db)\n",
    "\n",
    "# => [('Belgium',), ('England',), ('France',)]"
   ]
  },
  {
   "cell_type": "markdown",
   "metadata": {},
   "source": [
    "### Three methods to (re-)implement\n",
    "You should re-use the queries you have written in the first section (Raw SQL).\n",
    "1. What are the games that happened in France?"
   ]
  },
  {
   "cell_type": "code",
   "execution_count": 24,
   "metadata": {},
   "outputs": [
    {
     "data": {
      "text/plain": [
       "[(3040,)]"
      ]
     },
     "execution_count": 24,
     "metadata": {},
     "output_type": "execute_result"
    }
   ],
   "source": [
    "def games_in_france(db):\n",
    "    results = db.execute(\"SELECT count(*) from match where country_id = 4769\")\n",
    "    results = results.fetchall()\n",
    "    # results in a list (rows) of list (columns)\n",
    "    return results\n",
    "\n",
    "games_in_france(db)\n",
    "\n",
    "# games_in_france(db)"
   ]
  },
  {
   "cell_type": "markdown",
   "metadata": {},
   "source": [
    "2. How many people are taller than 2m?"
   ]
  },
  {
   "cell_type": "code",
   "execution_count": 18,
   "metadata": {},
   "outputs": [
    {
     "data": {
      "text/plain": [
       "[(22,)]"
      ]
     },
     "execution_count": 18,
     "metadata": {},
     "output_type": "execute_result"
    }
   ],
   "source": [
    "def tall_players_count(db):\n",
    "    results = db.execute(\"select count(*) from Player where height>200\")\n",
    "    results = results.fetchall()\n",
    "    # results in a list (rows) of list (columns)\n",
    "    return results\n",
    "\n",
    "# tall_players_count(db)\n",
    "tall_players_count(db)"
   ]
  },
  {
   "cell_type": "markdown",
   "metadata": {},
   "source": [
    "3. How many games where played in each league ?"
   ]
  },
  {
   "cell_type": "code",
   "execution_count": 21,
   "metadata": {},
   "outputs": [
    {
     "data": {
      "text/plain": [
       "[('Belgium', 'Belgium Jupiler League', 1728),\n",
       " ('England', 'England Premier League', 3040),\n",
       " ('France', 'France Ligue 1', 3040),\n",
       " ('Germany', 'Germany 1. Bundesliga', 2448),\n",
       " ('Italy', 'Italy Serie A', 3017),\n",
       " ('Netherlands', 'Netherlands Eredivisie', 2448),\n",
       " ('Poland', 'Poland Ekstraklasa', 1920),\n",
       " ('Portugal', 'Portugal Liga ZON Sagres', 2052),\n",
       " ('Scotland', 'Scotland Premier League', 1824),\n",
       " ('Spain', 'Spain LIGA BBVA', 3040),\n",
       " ('Switzerland', 'Switzerland Super League', 1422)]"
      ]
     },
     "execution_count": 21,
     "metadata": {},
     "output_type": "execute_result"
    }
   ],
   "source": [
    "def game_count_per_league(db):\n",
    "    query = '''\\\n",
    "    select c.name, l.name, count(m.id) as Nb_Match \n",
    "    from Match m \n",
    "    JOIN Country c ON c.id=l.country_id \n",
    "    JOIN League l ON l.id=m.league_id \n",
    "    GROUP BY l.id\n",
    "    '''\n",
    "    results = db.execute(query)\n",
    "    results = results.fetchall()\n",
    "    # results in a list (rows) of list (columns)\n",
    "    return results\n",
    "\n",
    "# game_count_per_league(db)\n",
    "game_count_per_league(db)"
   ]
  },
  {
   "cell_type": "code",
   "execution_count": null,
   "metadata": {},
   "outputs": [],
   "source": []
  }
 ],
 "metadata": {
  "kernelspec": {
   "display_name": "Python 3",
   "language": "python",
   "name": "python3"
  },
  "language_info": {
   "codemirror_mode": {
    "name": "ipython",
    "version": 3
   },
   "file_extension": ".py",
   "mimetype": "text/x-python",
   "name": "python",
   "nbconvert_exporter": "python",
   "pygments_lexer": "ipython3",
   "version": "3.8.3"
  }
 },
 "nbformat": 4,
 "nbformat_minor": 4
}
