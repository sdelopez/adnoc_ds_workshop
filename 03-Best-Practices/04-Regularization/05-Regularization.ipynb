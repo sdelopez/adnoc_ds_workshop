{
 "cells": [
  {
   "cell_type": "markdown",
   "metadata": {},
   "source": [
    "# Regularization"
   ]
  },
  {
   "cell_type": "markdown",
   "metadata": {},
   "source": [
    "Let's get started by importing all the libraries you will need."
   ]
  },
  {
   "cell_type": "code",
   "execution_count": 381,
   "metadata": {},
   "outputs": [],
   "source": [
    "import numpy as np\n",
    "import matplotlib.pyplot as plt\n",
    "from sklearn.linear_model import LinearRegression, Ridge\n",
    "from sklearn.model_selection import train_test_split\n",
    "from sklearn.preprocessing import PolynomialFeatures\n"
   ]
  },
  {
   "cell_type": "markdown",
   "metadata": {},
   "source": [
    "Now, you will create some data to illustrate our point. Run the following cell to create them:"
   ]
  },
  {
   "cell_type": "code",
   "execution_count": 391,
   "metadata": {},
   "outputs": [],
   "source": [
    "np.random.seed(0)\n",
    "\n",
    "X = np.arange(-10, 10, 0.4) + np.random.normal(0, 0.5, 50)\n",
    "y = X + 3 * (X ** 2) - 2 * (X ** 3) + np.random.normal(0, 300, 50)"
   ]
  },
  {
   "cell_type": "markdown",
   "metadata": {},
   "source": [
    "You have your dataset: an array `X` which is our single feature and `y` which is the true values.\n",
    "\n",
    "Your first task is to plot these data:"
   ]
  },
  {
   "cell_type": "code",
   "execution_count": null,
   "metadata": {},
   "outputs": [],
   "source": [
    "# Your code here !\n"
   ]
  },
  {
   "cell_type": "markdown",
   "metadata": {},
   "source": [
    "<details>\n",
    "  <summary>Hint</summary>\n",
    "\n",
    "You already know how to make scatter plots, so you could choose this type of plot !\n",
    "</details>\n",
    "<details>\n",
    "  <summary>View solution</summary>\n",
    "\n",
    "```python\n",
    "plt.scatter(X, y, s=10)\n",
    "```\n",
    "</details>"
   ]
  },
  {
   "cell_type": "markdown",
   "metadata": {},
   "source": [
    "Try to split your dataset into a training set and a test set (with `test_size=0.3` and `random_state=42`):"
   ]
  },
  {
   "cell_type": "code",
   "execution_count": null,
   "metadata": {},
   "outputs": [],
   "source": [
    "# Your code here\n"
   ]
  },
  {
   "cell_type": "markdown",
   "metadata": {},
   "source": [
    "<details>\n",
    "  <summary>Hint</summary>\n",
    "\n",
    "The documentation you need is available [here](https://scikit-learn.org/stable/modules/generated/sklearn.model_selection.train_test_split.html) !\n",
    "</details>\n",
    "<details>\n",
    "  <summary>View solution</summary>\n",
    "\n",
    "```python\n",
    "X_train, X_test, y_train, y_test = train_test_split(X, y, random_state=42, test_size=0.3)\n",
    "```\n",
    "</details>"
   ]
  },
  {
   "cell_type": "markdown",
   "metadata": {},
   "source": [
    "Run the following cells to check your answer:"
   ]
  },
  {
   "cell_type": "code",
   "execution_count": null,
   "metadata": {},
   "outputs": [],
   "source": [
    "X_train[12]"
   ]
  },
  {
   "cell_type": "markdown",
   "metadata": {},
   "source": [
    "<details>\n",
    "  <summary>View solution</summary>\n",
    "\n",
    "You should get `array([0.70640807])`\n",
    "</details>"
   ]
  },
  {
   "cell_type": "code",
   "execution_count": null,
   "metadata": {},
   "outputs": [],
   "source": [
    "X_test[7]"
   ]
  },
  {
   "cell_type": "markdown",
   "metadata": {},
   "source": [
    "<details>\n",
    "  <summary>View solution</summary>\n",
    "\n",
    "You should get `array([-0.72718284])`\n",
    "</details>"
   ]
  },
  {
   "cell_type": "code",
   "execution_count": null,
   "metadata": {},
   "outputs": [],
   "source": [
    "y_train[23]"
   ]
  },
  {
   "cell_type": "markdown",
   "metadata": {},
   "source": [
    "<details>\n",
    "  <summary>View solution</summary>\n",
    "\n",
    "You should get `-364.2924005611124`\n",
    "</details>"
   ]
  },
  {
   "cell_type": "code",
   "execution_count": null,
   "metadata": {},
   "outputs": [],
   "source": [
    "y_test[2]"
   ]
  },
  {
   "cell_type": "markdown",
   "metadata": {},
   "source": [
    "<details>\n",
    "  <summary>View solution</summary>\n",
    "\n",
    "You should get `-352.4521126837309`\n",
    "</details>"
   ]
  },
  {
   "cell_type": "markdown",
   "metadata": {},
   "source": [
    "You also need to reshape your `X_train` and `X_test` because Sklearn models don't like when `X` is a 1D array:"
   ]
  },
  {
   "cell_type": "code",
   "execution_count": null,
   "metadata": {},
   "outputs": [],
   "source": [
    "# Your code here\n"
   ]
  },
  {
   "cell_type": "markdown",
   "metadata": {},
   "source": [
    "<details>\n",
    "  <summary>Hint</summary>\n",
    "\n",
    "In order to do this, you need to use the [reshape] method(https://pandas.pydata.org/pandas-docs/version/0.22/generated/pandas.Series.reshape.html).\n",
    "\n",
    "</details>\n",
    "<details>\n",
    "  <summary>View solution</summary>\n",
    "\n",
    "```python\n",
    "X_train = X_train.reshape(-1, 1)\n",
    "X_test = X_test.reshape(-1, 1)\n",
    "```\n",
    "</details>"
   ]
  },
  {
   "cell_type": "markdown",
   "metadata": {},
   "source": [
    "Check your answer with the following cells:"
   ]
  },
  {
   "cell_type": "code",
   "execution_count": null,
   "metadata": {},
   "outputs": [],
   "source": [
    "X_train.shape"
   ]
  },
  {
   "cell_type": "markdown",
   "metadata": {},
   "source": [
    "<details>\n",
    "  <summary>View solution</summary>\n",
    "\n",
    "You should get (35, 1)\n",
    "</details>"
   ]
  },
  {
   "cell_type": "code",
   "execution_count": null,
   "metadata": {},
   "outputs": [],
   "source": [
    "X_test.shape"
   ]
  },
  {
   "cell_type": "markdown",
   "metadata": {},
   "source": [
    "<details>\n",
    "  <summary>View solution</summary>\n",
    "\n",
    "You should get (15, 1)\n",
    "</details>"
   ]
  },
  {
   "cell_type": "markdown",
   "metadata": {},
   "source": [
    "Now, you are ready to try a first model with the data. Let's start with a linear regression. You have to:\n",
    "\n",
    "- Instanciate the model\n",
    "- Fit the model on training data\n",
    "- Predict values from testing data\n",
    "\n",
    "You should end up with a variable `y_pred` which is the array containing the estimated values."
   ]
  },
  {
   "cell_type": "code",
   "execution_count": null,
   "metadata": {},
   "outputs": [],
   "source": [
    "# Your code here"
   ]
  },
  {
   "cell_type": "markdown",
   "metadata": {},
   "source": [
    "<details>\n",
    "  <summary>View solution</summary>\n",
    "\n",
    "```python\n",
    "model = LinearRegression()\n",
    "model.fit(X_train, y_train)\n",
    "\n",
    "y_pred = model.predict(X_test)\n",
    "```\n",
    "</details>"
   ]
  },
  {
   "cell_type": "markdown",
   "metadata": {},
   "source": [
    "To check your answer, feel free to run the following cells:"
   ]
  },
  {
   "cell_type": "code",
   "execution_count": null,
   "metadata": {},
   "outputs": [],
   "source": [
    "y_pred[9]"
   ]
  },
  {
   "cell_type": "markdown",
   "metadata": {},
   "source": [
    "<details>\n",
    "  <summary>View solution</summary>\n",
    "\n",
    "You should get 428.9387120753156\n",
    "</details>"
   ]
  },
  {
   "cell_type": "markdown",
   "metadata": {},
   "source": [
    "You can now plot your regression line along with the data."
   ]
  },
  {
   "cell_type": "code",
   "execution_count": 463,
   "metadata": {},
   "outputs": [],
   "source": [
    "# Your code here\n"
   ]
  },
  {
   "cell_type": "markdown",
   "metadata": {},
   "source": [
    "<details>\n",
    "  <summary>View solution</summary>\n",
    "\n",
    "```python\n",
    "plt.scatter(X, y, s=10)\n",
    "plt.plot(X_test, y_pred, color='r')\n",
    "plt.ylim(-2000, 2200)\n",
    "```\n",
    "</details>"
   ]
  },
  {
   "cell_type": "markdown",
   "metadata": {},
   "source": [
    "You can see that a line can't do the job here. Let's calculate the score of the model. With linear regression, the metric returned by the `score()` function is the $r^2$ (more details [here](https://scikit-learn.org/stable/modules/generated/sklearn.linear_model.LinearRegression.html#sklearn.linear_model.LinearRegression.score)).\n"
   ]
  },
  {
   "cell_type": "code",
   "execution_count": 465,
   "metadata": {},
   "outputs": [],
   "source": [
    "# Your code here\n"
   ]
  },
  {
   "cell_type": "markdown",
   "metadata": {},
   "source": [
    "You should get a score of 0.38396755192273035."
   ]
  },
  {
   "cell_type": "markdown",
   "metadata": {},
   "source": [
    "We have not seen this metric $R^2$ in details: if you want, you can read about it [here](https://en.wikipedia.org/wiki/Coefficient_of_determination).\n",
    "It is a metric between 0 and 1, and the closer to 1 the better.\n",
    "\n",
    "So this is not very good. We can't fit a line because our data are not linear. They follow a polynomial pattern. One method is to use polynomial features as we described at the beginning. You don't need to do it manually: you can use Sklearn ([here](https://scikit-learn.org/stable/modules/generated/sklearn.preprocessing.PolynomialFeatures.html\n",
    ")). You can also have a look [here](https://stats.stackexchange.com/questions/58739/polynomial-regression-using-scikit-learn#answer-124664\n",
    ") and [here](https://scikit-learn.org/stable/auto_examples/model_selection/plot_underfitting_overfitting.html#sphx-glr-auto-examples-model-selection-plot-underfitting-overfitting-py).\n",
    "\n",
    "Your task is to create variables `X_train_poly` and `X_test_poly` containing the polynomials. Instanciate `PolynomialFeatures` with `degree=2`. This means that we want to add one column with the data samples raised at the power of 2."
   ]
  },
  {
   "cell_type": "code",
   "execution_count": 398,
   "metadata": {},
   "outputs": [],
   "source": [
    "# Your code here\n"
   ]
  },
  {
   "cell_type": "markdown",
   "metadata": {},
   "source": [
    "<details>\n",
    "  <summary>View solution</summary>\n",
    "\n",
    "```python\n",
    "polynomial_features= PolynomialFeatures(degree=2)\n",
    "\n",
    "X_train_poly = polynomial_features.fit_transform(X_train)\n",
    "X_test_poly = polynomial_features.fit_transform(X_test)\n",
    "```\n",
    "</details>"
   ]
  },
  {
   "cell_type": "markdown",
   "metadata": {},
   "source": [
    "Checking time. You can run the following cells:"
   ]
  },
  {
   "cell_type": "code",
   "execution_count": null,
   "metadata": {},
   "outputs": [],
   "source": [
    "X_train_poly.shape"
   ]
  },
  {
   "cell_type": "markdown",
   "metadata": {},
   "source": [
    "<details>\n",
    "  <summary>View solution</summary>\n",
    "\n",
    "You should get (35, 3)\n",
    "</details>"
   ]
  },
  {
   "cell_type": "code",
   "execution_count": null,
   "metadata": {},
   "outputs": [],
   "source": [
    "X_train_poly[23, 2]"
   ]
  },
  {
   "cell_type": "markdown",
   "metadata": {},
   "source": [
    "<details>\n",
    "  <summary>View solution</summary>\n",
    "\n",
    "You should get 1.371434245703858\n",
    "</details>"
   ]
  },
  {
   "cell_type": "code",
   "execution_count": null,
   "metadata": {},
   "outputs": [],
   "source": [
    "X_test_poly[4, 2]"
   ]
  },
  {
   "cell_type": "markdown",
   "metadata": {},
   "source": [
    "<details>\n",
    "  <summary>View solution</summary>\n",
    "\n",
    "You should get 10.907028922348374\n",
    "</details>"
   ]
  },
  {
   "cell_type": "markdown",
   "metadata": {},
   "source": [
    "If you look at the created arrays (for instance `X_train_poly[:10, :]`), you can see that the first column is filled with ones. This because when we use `degree=2`, we have all powers from 0 to 2 (included): this results in ones (any number raised at a power of 0), our data and our data squared for the columns 0, 1, and 2 respectively.\n",
    "\n",
    "Now, you can use these new data in the linear regression algorithm as it was real features. Try to create a new model with these data."
   ]
  },
  {
   "cell_type": "code",
   "execution_count": 471,
   "metadata": {},
   "outputs": [],
   "source": [
    "# Your code here\n"
   ]
  },
  {
   "cell_type": "markdown",
   "metadata": {},
   "source": [
    "<details>\n",
    "  <summary>Hint</summary>\n",
    "\n",
    "Fit a LinearRegression on it!\n",
    "</details>\n",
    "<details>\n",
    "  <summary>View solution</summary>\n",
    "\n",
    "```python\n",
    "model = LinearRegression()\n",
    "model.fit(X_train_poly, y_train)\n",
    "```\n",
    "</details>"
   ]
  },
  {
   "cell_type": "markdown",
   "metadata": {},
   "source": [
    "To be sure, run the following cell:"
   ]
  },
  {
   "cell_type": "code",
   "execution_count": null,
   "metadata": {},
   "outputs": [],
   "source": [
    "model.coef_"
   ]
  },
  {
   "cell_type": "markdown",
   "metadata": {},
   "source": [
    "<details>\n",
    "  <summary>View solution</summary>\n",
    "\n",
    "You should get array([0, -97.95476316, 4.98207551])\n",
    "</details>"
   ]
  },
  {
   "cell_type": "markdown",
   "metadata": {},
   "source": [
    "To plot the new regression \"line\" (quoted because it is not a line anymore):\n",
    "\n",
    "- Create an array with range of values\n",
    "- Pass this array into the function polynomial features and store this into a variable named `X_plot` for instance\n",
    "- Do predictions with your model from this array\n",
    "- Plot the column 1 of `X_plot` as x and the predictions as y"
   ]
  },
  {
   "cell_type": "code",
   "execution_count": 475,
   "metadata": {},
   "outputs": [],
   "source": [
    "# Your code here\n"
   ]
  },
  {
   "cell_type": "markdown",
   "metadata": {},
   "source": [
    "<details>\n",
    "  <summary>View solution</summary>\n",
    "\n",
    "```python\n",
    "X_plot = polynomial_features.fit_transform(np.arange(-10, 10, 0.1).reshape(-1, 1))\n",
    "y_plot = model.predict(X_plot)\n",
    "\n",
    "plt.scatter(X, y, s=10)\n",
    "plt.plot(X_plot[:, 1], y_plot, color='m')\n",
    "plt.ylim(-2000, 2200)\n",
    "```\n",
    "</details>"
   ]
  },
  {
   "cell_type": "markdown",
   "metadata": {},
   "source": [
    "Let's calculate the score with this new model:"
   ]
  },
  {
   "cell_type": "code",
   "execution_count": 477,
   "metadata": {},
   "outputs": [],
   "source": [
    "# Your code here\n"
   ]
  },
  {
   "cell_type": "markdown",
   "metadata": {},
   "source": [
    "<details>\n",
    "  <summary>View solution</summary>\n",
    "\n",
    "```python\n",
    "model.score(X_test_poly, y_test)\n",
    "```\n",
    "</details>"
   ]
  },
  {
   "cell_type": "markdown",
   "metadata": {},
   "source": [
    "You should see a better score. Do these same steps but using `degree=3` in polynomial features. What is the score?"
   ]
  },
  {
   "cell_type": "code",
   "execution_count": null,
   "metadata": {},
   "outputs": [],
   "source": [
    "# Your code here\n"
   ]
  },
  {
   "cell_type": "markdown",
   "metadata": {},
   "source": [
    "<details>\n",
    "  <summary>Hint</summary>\n",
    "    \n",
    "Repeat the same steps as for deg 2, but for deg 3 this time !\n",
    "</details>\n",
    "<details>\n",
    "  <summary>View solution 1</summary>\n",
    "\n",
    "```python\n",
    "polynomial_features= PolynomialFeatures(degree=3)\n",
    "X_train_poly = polynomial_features.fit_transform(X_train)\n",
    "X_test_poly = polynomial_features.fit_transform(X_test)\n",
    "\n",
    "model = LinearRegression()\n",
    "model.fit(X_train_poly, y_train)\n",
    "y_poly_pred = model.predict(X_train_poly)\n",
    "\n",
    "x_plot = polynomial_features.fit_transform(np.arange(-10, 10, 0.1).reshape(-1, 1))\n",
    "y_plot = model.predict(x_plot)\n",
    "\n",
    "plt.scatter(X, y, s=10)\n",
    "plt.plot(x_plot[:, 1], y_plot, color='m')\n",
    "plt.ylim(-2000, 2200)\n",
    "```\n",
    "</details>\n",
    "<details>\n",
    "  <summary>View solution 2</summary>\n",
    "\n",
    "```python\n",
    "model.score(X_test_poly, y_test)\n",
    "```\n",
    "</details>"
   ]
  },
  {
   "cell_type": "markdown",
   "metadata": {},
   "source": [
    "You should observe that the fit looks better. Do the same plot with a degree of 10."
   ]
  },
  {
   "cell_type": "code",
   "execution_count": 436,
   "metadata": {},
   "outputs": [],
   "source": [
    "# Your code here\n"
   ]
  },
  {
   "cell_type": "markdown",
   "metadata": {},
   "source": [
    "<details>\n",
    "  <summary>View solution</summary>\n",
    "\n",
    "```python\n",
    "polynomial_features= PolynomialFeatures(degree=10)\n",
    "X_train_poly = polynomial_features.fit_transform(X_train)\n",
    "X_test_poly = polynomial_features.fit_transform(X_test)\n",
    "\n",
    "model = LinearRegression()\n",
    "model.fit(X_train_poly, y_train)\n",
    "y_poly_pred = model.predict(X_train_poly)\n",
    "\n",
    "x_plot = polynomial_features.fit_transform(np.arange(-10, 10, 0.1).reshape(-1, 1))\n",
    "y_plot = model.predict(x_plot)\n",
    "\n",
    "plt.scatter(X, y, s=10)\n",
    "plt.plot(x_plot[:, 1], y_plot, color='m')\n",
    "plt.ylim(-2000, 2200)\n",
    "```\n",
    "</details>"
   ]
  },
  {
   "cell_type": "markdown",
   "metadata": {},
   "source": [
    "Now the fit is very good. However, it is *too* good. It looks like it fits even part of the noise. This is overfitting. Let's check with the score (on the test set as before)."
   ]
  },
  {
   "cell_type": "code",
   "execution_count": null,
   "metadata": {},
   "outputs": [],
   "source": [
    "# Your code here\n"
   ]
  },
  {
   "cell_type": "markdown",
   "metadata": {},
   "source": [
    "<details>\n",
    "  <summary>View solution</summary>\n",
    "\n",
    "```python\n",
    "model.score(X_test_poly, y_test)\n",
    "```\n",
    "</details>"
   ]
  },
  {
   "cell_type": "markdown",
   "metadata": {},
   "source": [
    "`degree=3` was better.\n",
    "\n",
    "To get the best results, we can have a bit of overfitting and apply regularization to fix it. To do that, you can use `degree=8` for instance, but instead of using `LinearRegression`, use the function `Ridge` from Sklearn (already imported). You can provide the alpha parameter which is the regularization parameter. Your task is now to find alpha associated with better results than with `degree=3`.\n"
   ]
  },
  {
   "cell_type": "code",
   "execution_count": 440,
   "metadata": {},
   "outputs": [],
   "source": [
    "# Your code here\n"
   ]
  },
  {
   "cell_type": "markdown",
   "metadata": {},
   "source": [
    "<details>\n",
    "  <summary>View solution</summary>\n",
    "\n",
    "```python\n",
    "polynomial_features= PolynomialFeatures(degree=8)\n",
    "X_train_poly = polynomial_features.fit_transform(X_train)\n",
    "X_test_poly = polynomial_features.fit_transform(X_test)\n",
    "\n",
    "model = Ridge(alpha=150)\n",
    "model.fit(X_train_poly, y_train)\n",
    "y_poly_pred = model.predict(X_train_poly)\n",
    "\n",
    "x_plot = polynomial_features.fit_transform(np.arange(-10, 10, 0.1).reshape(-1, 1))\n",
    "y_plot = model.predict(x_plot)\n",
    "\n",
    "plt.scatter(X, y, s=10)\n",
    "plt.plot(x_plot[:, 1], y_plot, color='m')\n",
    "plt.ylim(-2000, 2200)\n",
    "```\n",
    "\n",
    "```python\n",
    "model.score(X_test_poly, y_test)\n",
    "```\n",
    "</details>"
   ]
  },
  {
   "cell_type": "markdown",
   "metadata": {},
   "source": [
    "We managed to get a score of 0.7983634979210381. Try to beat us by playing with `alpha` and the `degree` of polynomials.\n",
    "\n",
    "The improvement is low, but in some case, using regularization can be game changing especially with techniques where we can't change the algorithm to fit the data with less precision like we did by playing with the `degree`.\n",
    "\n",
    "\n",
    "## Optional\n",
    "Finally, you can try to look at the effect of regularization on the weights given for each features (that is, each polynomial). To do that, you can loop over different values of the regularization parameter `alpha`. Since this parameter can be very large and positive or negative, you can use a logspace to explore the values:"
   ]
  },
  {
   "cell_type": "code",
   "execution_count": 496,
   "metadata": {},
   "outputs": [],
   "source": [
    "alphas = np.logspace(-1, 4, 200)"
   ]
  },
  {
   "cell_type": "markdown",
   "metadata": {},
   "source": [
    "Store the scores corresponding to each value of `alpha` and the model weights (`model.coef_`). Then, you can do two plots:\n",
    "\n",
    "- the weights in function of alpha (you can use a log scale for the x-axis: `plt.xscale('log')`)\n",
    "- the score in function of alpha (you can use a log scale as well)"
   ]
  },
  {
   "cell_type": "code",
   "execution_count": 504,
   "metadata": {},
   "outputs": [],
   "source": [
    "# Your code here\n"
   ]
  },
  {
   "cell_type": "markdown",
   "metadata": {},
   "source": [
    "<details>\n",
    "  <summary>View solution</summary>\n",
    "\n",
    "```python\n",
    "coefs = []\n",
    "scores = []\n",
    "scores_tr = []\n",
    "for a in alphas:\n",
    "    model = Ridge(alpha=a)\n",
    "    model.fit(X_train_poly, y_train)\n",
    "    scores.append(model.score(X_test_poly, y_test))\n",
    "    scores_tr.append(model.score(X_train_poly, y_train))\n",
    "    coefs.append(model.coef_)\n",
    "```\n",
    "\n",
    "```python\n",
    "plt.plot(alphas, coefs)\n",
    "plt.xscale('log')\n",
    "plt.xlabel('alpha')\n",
    "plt.ylabel('weights')\n",
    "plt.title('Ridge coefficients as a function of the regularization')\n",
    "plt.show()\n",
    "```\n",
    "\n",
    "```python\n",
    "plt.plot(alphas, scores)\n",
    "plt.xscale('log')\n",
    "```\n",
    "\n",
    "</details>"
   ]
  }
 ],
 "metadata": {
  "kernelspec": {
   "display_name": "Python 3",
   "language": "python",
   "name": "python3"
  },
  "language_info": {
   "codemirror_mode": {
    "name": "ipython",
    "version": 3
   },
   "file_extension": ".py",
   "mimetype": "text/x-python",
   "name": "python",
   "nbconvert_exporter": "python",
   "pygments_lexer": "ipython3",
   "version": "3.8.5"
  },
  "toc": {
   "base_numbering": 1,
   "nav_menu": {},
   "number_sections": false,
   "sideBar": true,
   "skip_h1_title": false,
   "title_cell": "Table of Contents",
   "title_sidebar": "Contents",
   "toc_cell": false,
   "toc_position": {},
   "toc_section_display": true,
   "toc_window_display": false
  }
 },
 "nbformat": 4,
 "nbformat_minor": 4
}
